{
 "cells": [
  {
   "cell_type": "markdown",
   "id": "f642c47d",
   "metadata": {},
   "source": [
    "# Desafio 1"
   ]
  },
  {
   "cell_type": "markdown",
   "id": "24a422ee",
   "metadata": {},
   "source": [
    "Neste primeiro desafio ache a similaridade entre as frases nos formatos tf-idf e bag of words. Faça a similaridade para cada duas frases. Dica: lembre-se de limpar a pontuação e deixar tudo em minúscula."
   ]
  },
  {
   "cell_type": "code",
   "execution_count": 5,
   "id": "9e52b1f2",
   "metadata": {
    "ExecuteTime": {
     "end_time": "2022-01-12T16:47:09.463348Z",
     "start_time": "2022-01-12T16:47:09.459161Z"
    }
   },
   "outputs": [],
   "source": [
    "frases = ['Não é amigo aquele que alardeia a amizade: é traficante; a amizade sente-se, não se diz',\n",
    "          'Eu não sou homem que recuse elogios. Amo-os; eles fazem bem à alma e até ao corpo. As melhores digestões da minha vida são as dos jantares em que sou brindado.',\n",
    "          'Quem tem um amigo, mesmo que um só, não importa onde se encontre, jamais sofrerá de solidão; poderá morrer de saudades, mas não estará só. A verdadeira amizade é aquela que nos permite falar, ao amigo, de todos os seus defeitos e de todas as nossas qualidades.',\n",
    "          'A amizade é um amor que nunca morre. A amizade desenvolve a felicidade e reduz o sofrimento, duplicando a nossa alegria e dividindo a nossa dor']"
   ]
  },
  {
   "cell_type": "code",
   "execution_count": 10,
   "id": "c3bb9be1",
   "metadata": {
    "ExecuteTime": {
     "end_time": "2022-01-12T16:50:27.968525Z",
     "start_time": "2022-01-12T16:50:27.962150Z"
    }
   },
   "outputs": [],
   "source": [
    "import pandas as pd\n",
    "df = pd.DataFrame(frases)\n",
    "df.columns = ['Frases']"
   ]
  },
  {
   "cell_type": "code",
   "execution_count": 11,
   "id": "d9ca1ffe",
   "metadata": {
    "ExecuteTime": {
     "end_time": "2022-01-12T16:50:34.298022Z",
     "start_time": "2022-01-12T16:50:34.286363Z"
    }
   },
   "outputs": [
    {
     "data": {
      "text/html": [
       "<div>\n",
       "<style scoped>\n",
       "    .dataframe tbody tr th:only-of-type {\n",
       "        vertical-align: middle;\n",
       "    }\n",
       "\n",
       "    .dataframe tbody tr th {\n",
       "        vertical-align: top;\n",
       "    }\n",
       "\n",
       "    .dataframe thead th {\n",
       "        text-align: right;\n",
       "    }\n",
       "</style>\n",
       "<table border=\"1\" class=\"dataframe\">\n",
       "  <thead>\n",
       "    <tr style=\"text-align: right;\">\n",
       "      <th></th>\n",
       "      <th>Frases</th>\n",
       "    </tr>\n",
       "  </thead>\n",
       "  <tbody>\n",
       "    <tr>\n",
       "      <th>0</th>\n",
       "      <td>Não é amigo aquele que alardeia a amizade: é t...</td>\n",
       "    </tr>\n",
       "    <tr>\n",
       "      <th>1</th>\n",
       "      <td>Eu não sou homem que recuse elogios. Amo-os; e...</td>\n",
       "    </tr>\n",
       "    <tr>\n",
       "      <th>2</th>\n",
       "      <td>Quem tem um amigo, mesmo que um só, não import...</td>\n",
       "    </tr>\n",
       "    <tr>\n",
       "      <th>3</th>\n",
       "      <td>A amizade é um amor que nunca morre. A amizade...</td>\n",
       "    </tr>\n",
       "  </tbody>\n",
       "</table>\n",
       "</div>"
      ],
      "text/plain": [
       "                                              Frases\n",
       "0  Não é amigo aquele que alardeia a amizade: é t...\n",
       "1  Eu não sou homem que recuse elogios. Amo-os; e...\n",
       "2  Quem tem um amigo, mesmo que um só, não import...\n",
       "3  A amizade é um amor que nunca morre. A amizade..."
      ]
     },
     "execution_count": 11,
     "metadata": {},
     "output_type": "execute_result"
    }
   ],
   "source": [
    "df"
   ]
  },
  {
   "cell_type": "markdown",
   "id": "e41f23ee",
   "metadata": {},
   "source": [
    "## Pré-processamento"
   ]
  },
  {
   "cell_type": "code",
   "execution_count": 25,
   "id": "2186665d",
   "metadata": {
    "ExecuteTime": {
     "end_time": "2022-01-12T20:11:50.522487Z",
     "start_time": "2022-01-12T20:11:50.510854Z"
    }
   },
   "outputs": [
    {
     "data": {
      "text/plain": [
       "0    não é amigo aquele que alardeia a amizade  é t...\n",
       "1    eu não sou homem que recuse elogios  amo os  e...\n",
       "2    quem tem um amigo  mesmo que um só  não import...\n",
       "3    a amizade é um amor que nunca morre  a amizade...\n",
       "Name: Frases, dtype: object"
      ]
     },
     "execution_count": 25,
     "metadata": {},
     "output_type": "execute_result"
    }
   ],
   "source": [
    "# Etapas de pré-processamento de texto - remover pontuação e deixar em minúscula\n",
    "import re\n",
    "import string\n",
    "\n",
    "punc_lower = lambda x: re.sub('[%s]' % re.escape(string.punctuation), ' ', x.lower()) #retirar pontuação\n",
    "\n",
    "corpus = df.Frases.map(punc_lower)\n",
    "corpus"
   ]
  },
  {
   "cell_type": "markdown",
   "id": "ae109482",
   "metadata": {},
   "source": [
    "## Stopwords"
   ]
  },
  {
   "cell_type": "code",
   "execution_count": 26,
   "id": "b992ba53",
   "metadata": {
    "ExecuteTime": {
     "end_time": "2022-01-12T20:16:52.474992Z",
     "start_time": "2022-01-12T20:16:51.741495Z"
    }
   },
   "outputs": [
    {
     "name": "stderr",
     "output_type": "stream",
     "text": [
      "[nltk_data] Downloading package stopwords to\n",
      "[nltk_data]     /Users/LeonardoLins/nltk_data...\n",
      "[nltk_data]   Package stopwords is already up-to-date!\n"
     ]
    }
   ],
   "source": [
    "import nltk\n",
    "nltk.download('stopwords')\n",
    "from nltk.corpus import stopwords"
   ]
  },
  {
   "cell_type": "markdown",
   "id": "530dc41d",
   "metadata": {},
   "source": [
    "## Cálculo de similaridade de cosseno"
   ]
  },
  {
   "cell_type": "code",
   "execution_count": 15,
   "id": "d86b6bb0",
   "metadata": {
    "ExecuteTime": {
     "end_time": "2022-01-12T19:59:24.518020Z",
     "start_time": "2022-01-12T19:59:24.513157Z"
    }
   },
   "outputs": [],
   "source": [
    "from numpy import dot\n",
    "from numpy.linalg import norm\n",
    "\n",
    "cosine = lambda v1, v2: dot(v1, v2) / (norm(v1) * norm(v2))"
   ]
  },
  {
   "cell_type": "markdown",
   "id": "15160524",
   "metadata": {},
   "source": [
    "## Representação: vetorizador TF-IDF"
   ]
  },
  {
   "cell_type": "code",
   "execution_count": 27,
   "id": "fb396934",
   "metadata": {
    "ExecuteTime": {
     "end_time": "2022-01-12T20:17:32.167274Z",
     "start_time": "2022-01-12T20:17:32.116729Z"
    }
   },
   "outputs": [
    {
     "data": {
      "text/html": [
       "<div>\n",
       "<style scoped>\n",
       "    .dataframe tbody tr th:only-of-type {\n",
       "        vertical-align: middle;\n",
       "    }\n",
       "\n",
       "    .dataframe tbody tr th {\n",
       "        vertical-align: top;\n",
       "    }\n",
       "\n",
       "    .dataframe thead th {\n",
       "        text-align: right;\n",
       "    }\n",
       "</style>\n",
       "<table border=\"1\" class=\"dataframe\">\n",
       "  <thead>\n",
       "    <tr style=\"text-align: right;\">\n",
       "      <th></th>\n",
       "      <th>alardeia</th>\n",
       "      <th>alegria</th>\n",
       "      <th>alma</th>\n",
       "      <th>amigo</th>\n",
       "      <th>amizade</th>\n",
       "      <th>amo</th>\n",
       "      <th>amor</th>\n",
       "      <th>bem</th>\n",
       "      <th>brindado</th>\n",
       "      <th>corpo</th>\n",
       "      <th>...</th>\n",
       "      <th>saudades</th>\n",
       "      <th>sente</th>\n",
       "      <th>sofrerá</th>\n",
       "      <th>sofrimento</th>\n",
       "      <th>solidão</th>\n",
       "      <th>todas</th>\n",
       "      <th>todos</th>\n",
       "      <th>traficante</th>\n",
       "      <th>verdadeira</th>\n",
       "      <th>vida</th>\n",
       "    </tr>\n",
       "    <tr>\n",
       "      <th>Frases</th>\n",
       "      <th></th>\n",
       "      <th></th>\n",
       "      <th></th>\n",
       "      <th></th>\n",
       "      <th></th>\n",
       "      <th></th>\n",
       "      <th></th>\n",
       "      <th></th>\n",
       "      <th></th>\n",
       "      <th></th>\n",
       "      <th></th>\n",
       "      <th></th>\n",
       "      <th></th>\n",
       "      <th></th>\n",
       "      <th></th>\n",
       "      <th></th>\n",
       "      <th></th>\n",
       "      <th></th>\n",
       "      <th></th>\n",
       "      <th></th>\n",
       "      <th></th>\n",
       "    </tr>\n",
       "  </thead>\n",
       "  <tbody>\n",
       "    <tr>\n",
       "      <th>Não é amigo aquele que alardeia a amizade: é traficante; a amizade sente-se, não se diz</th>\n",
       "      <td>0.399961</td>\n",
       "      <td>0.000000</td>\n",
       "      <td>0.00000</td>\n",
       "      <td>0.315333</td>\n",
       "      <td>0.510579</td>\n",
       "      <td>0.00000</td>\n",
       "      <td>0.000000</td>\n",
       "      <td>0.00000</td>\n",
       "      <td>0.00000</td>\n",
       "      <td>0.00000</td>\n",
       "      <td>...</td>\n",
       "      <td>0.000000</td>\n",
       "      <td>0.399961</td>\n",
       "      <td>0.000000</td>\n",
       "      <td>0.000000</td>\n",
       "      <td>0.000000</td>\n",
       "      <td>0.000000</td>\n",
       "      <td>0.000000</td>\n",
       "      <td>0.399961</td>\n",
       "      <td>0.000000</td>\n",
       "      <td>0.00000</td>\n",
       "    </tr>\n",
       "    <tr>\n",
       "      <th>Eu não sou homem que recuse elogios. Amo-os; eles fazem bem à alma e até ao corpo. As melhores digestões da minha vida são as dos jantares em que sou brindado.</th>\n",
       "      <td>0.000000</td>\n",
       "      <td>0.000000</td>\n",
       "      <td>0.27735</td>\n",
       "      <td>0.000000</td>\n",
       "      <td>0.000000</td>\n",
       "      <td>0.27735</td>\n",
       "      <td>0.000000</td>\n",
       "      <td>0.27735</td>\n",
       "      <td>0.27735</td>\n",
       "      <td>0.27735</td>\n",
       "      <td>...</td>\n",
       "      <td>0.000000</td>\n",
       "      <td>0.000000</td>\n",
       "      <td>0.000000</td>\n",
       "      <td>0.000000</td>\n",
       "      <td>0.000000</td>\n",
       "      <td>0.000000</td>\n",
       "      <td>0.000000</td>\n",
       "      <td>0.000000</td>\n",
       "      <td>0.000000</td>\n",
       "      <td>0.27735</td>\n",
       "    </tr>\n",
       "    <tr>\n",
       "      <th>Quem tem um amigo, mesmo que um só, não importa onde se encontre, jamais sofrerá de solidão; poderá morrer de saudades, mas não estará só. A verdadeira amizade é aquela que nos permite falar, ao amigo, de todos os seus defeitos e de todas as nossas qualidades.</th>\n",
       "      <td>0.000000</td>\n",
       "      <td>0.000000</td>\n",
       "      <td>0.00000</td>\n",
       "      <td>0.353528</td>\n",
       "      <td>0.143106</td>\n",
       "      <td>0.00000</td>\n",
       "      <td>0.000000</td>\n",
       "      <td>0.00000</td>\n",
       "      <td>0.00000</td>\n",
       "      <td>0.00000</td>\n",
       "      <td>...</td>\n",
       "      <td>0.224203</td>\n",
       "      <td>0.000000</td>\n",
       "      <td>0.224203</td>\n",
       "      <td>0.000000</td>\n",
       "      <td>0.224203</td>\n",
       "      <td>0.224203</td>\n",
       "      <td>0.224203</td>\n",
       "      <td>0.000000</td>\n",
       "      <td>0.224203</td>\n",
       "      <td>0.00000</td>\n",
       "    </tr>\n",
       "    <tr>\n",
       "      <th>A amizade é um amor que nunca morre. A amizade desenvolve a felicidade e reduz o sofrimento, duplicando a nossa alegria e dividindo a nossa dor</th>\n",
       "      <td>0.000000</td>\n",
       "      <td>0.281387</td>\n",
       "      <td>0.00000</td>\n",
       "      <td>0.000000</td>\n",
       "      <td>0.359212</td>\n",
       "      <td>0.00000</td>\n",
       "      <td>0.281387</td>\n",
       "      <td>0.00000</td>\n",
       "      <td>0.00000</td>\n",
       "      <td>0.00000</td>\n",
       "      <td>...</td>\n",
       "      <td>0.000000</td>\n",
       "      <td>0.000000</td>\n",
       "      <td>0.000000</td>\n",
       "      <td>0.281387</td>\n",
       "      <td>0.000000</td>\n",
       "      <td>0.000000</td>\n",
       "      <td>0.000000</td>\n",
       "      <td>0.000000</td>\n",
       "      <td>0.000000</td>\n",
       "      <td>0.00000</td>\n",
       "    </tr>\n",
       "  </tbody>\n",
       "</table>\n",
       "<p>4 rows × 47 columns</p>\n",
       "</div>"
      ],
      "text/plain": [
       "                                                    alardeia   alegria  \\\n",
       "Frases                                                                   \n",
       "Não é amigo aquele que alardeia a amizade: é tr...  0.399961  0.000000   \n",
       "Eu não sou homem que recuse elogios. Amo-os; el...  0.000000  0.000000   \n",
       "Quem tem um amigo, mesmo que um só, não importa...  0.000000  0.000000   \n",
       "A amizade é um amor que nunca morre. A amizade ...  0.000000  0.281387   \n",
       "\n",
       "                                                       alma     amigo  \\\n",
       "Frases                                                                  \n",
       "Não é amigo aquele que alardeia a amizade: é tr...  0.00000  0.315333   \n",
       "Eu não sou homem que recuse elogios. Amo-os; el...  0.27735  0.000000   \n",
       "Quem tem um amigo, mesmo que um só, não importa...  0.00000  0.353528   \n",
       "A amizade é um amor que nunca morre. A amizade ...  0.00000  0.000000   \n",
       "\n",
       "                                                     amizade      amo  \\\n",
       "Frases                                                                  \n",
       "Não é amigo aquele que alardeia a amizade: é tr...  0.510579  0.00000   \n",
       "Eu não sou homem que recuse elogios. Amo-os; el...  0.000000  0.27735   \n",
       "Quem tem um amigo, mesmo que um só, não importa...  0.143106  0.00000   \n",
       "A amizade é um amor que nunca morre. A amizade ...  0.359212  0.00000   \n",
       "\n",
       "                                                        amor      bem  \\\n",
       "Frases                                                                  \n",
       "Não é amigo aquele que alardeia a amizade: é tr...  0.000000  0.00000   \n",
       "Eu não sou homem que recuse elogios. Amo-os; el...  0.000000  0.27735   \n",
       "Quem tem um amigo, mesmo que um só, não importa...  0.000000  0.00000   \n",
       "A amizade é um amor que nunca morre. A amizade ...  0.281387  0.00000   \n",
       "\n",
       "                                                    brindado    corpo  ...  \\\n",
       "Frases                                                                 ...   \n",
       "Não é amigo aquele que alardeia a amizade: é tr...   0.00000  0.00000  ...   \n",
       "Eu não sou homem que recuse elogios. Amo-os; el...   0.27735  0.27735  ...   \n",
       "Quem tem um amigo, mesmo que um só, não importa...   0.00000  0.00000  ...   \n",
       "A amizade é um amor que nunca morre. A amizade ...   0.00000  0.00000  ...   \n",
       "\n",
       "                                                    saudades     sente  \\\n",
       "Frases                                                                   \n",
       "Não é amigo aquele que alardeia a amizade: é tr...  0.000000  0.399961   \n",
       "Eu não sou homem que recuse elogios. Amo-os; el...  0.000000  0.000000   \n",
       "Quem tem um amigo, mesmo que um só, não importa...  0.224203  0.000000   \n",
       "A amizade é um amor que nunca morre. A amizade ...  0.000000  0.000000   \n",
       "\n",
       "                                                     sofrerá  sofrimento  \\\n",
       "Frases                                                                     \n",
       "Não é amigo aquele que alardeia a amizade: é tr...  0.000000    0.000000   \n",
       "Eu não sou homem que recuse elogios. Amo-os; el...  0.000000    0.000000   \n",
       "Quem tem um amigo, mesmo que um só, não importa...  0.224203    0.000000   \n",
       "A amizade é um amor que nunca morre. A amizade ...  0.000000    0.281387   \n",
       "\n",
       "                                                     solidão     todas  \\\n",
       "Frases                                                                   \n",
       "Não é amigo aquele que alardeia a amizade: é tr...  0.000000  0.000000   \n",
       "Eu não sou homem que recuse elogios. Amo-os; el...  0.000000  0.000000   \n",
       "Quem tem um amigo, mesmo que um só, não importa...  0.224203  0.224203   \n",
       "A amizade é um amor que nunca morre. A amizade ...  0.000000  0.000000   \n",
       "\n",
       "                                                       todos  traficante  \\\n",
       "Frases                                                                     \n",
       "Não é amigo aquele que alardeia a amizade: é tr...  0.000000    0.399961   \n",
       "Eu não sou homem que recuse elogios. Amo-os; el...  0.000000    0.000000   \n",
       "Quem tem um amigo, mesmo que um só, não importa...  0.224203    0.000000   \n",
       "A amizade é um amor que nunca morre. A amizade ...  0.000000    0.000000   \n",
       "\n",
       "                                                    verdadeira     vida  \n",
       "Frases                                                                   \n",
       "Não é amigo aquele que alardeia a amizade: é tr...    0.000000  0.00000  \n",
       "Eu não sou homem que recuse elogios. Amo-os; el...    0.000000  0.27735  \n",
       "Quem tem um amigo, mesmo que um só, não importa...    0.224203  0.00000  \n",
       "A amizade é um amor que nunca morre. A amizade ...    0.000000  0.00000  \n",
       "\n",
       "[4 rows x 47 columns]"
      ]
     },
     "execution_count": 27,
     "metadata": {},
     "output_type": "execute_result"
    }
   ],
   "source": [
    "from sklearn.feature_extraction.text import TfidfVectorizer\n",
    "          \n",
    "cv_tfidf = TfidfVectorizer(stop_words = stopwords.words('portuguese'))\n",
    "X_tfidf = cv_tfidf.fit_transform(corpus).toarray()\n",
    "\n",
    "dt_tfidf = pd.DataFrame(X_tfidf, columns=cv_tfidf.get_feature_names_out()).set_index(df.Frases)\n",
    "dt_tfidf.head()"
   ]
  },
  {
   "cell_type": "markdown",
   "id": "eade5651",
   "metadata": {},
   "source": [
    "## Representação: vetorizador bag of words"
   ]
  },
  {
   "cell_type": "code",
   "execution_count": 28,
   "id": "d8432308",
   "metadata": {
    "ExecuteTime": {
     "end_time": "2022-01-12T20:18:07.261713Z",
     "start_time": "2022-01-12T20:18:07.228316Z"
    }
   },
   "outputs": [
    {
     "data": {
      "text/html": [
       "<div>\n",
       "<style scoped>\n",
       "    .dataframe tbody tr th:only-of-type {\n",
       "        vertical-align: middle;\n",
       "    }\n",
       "\n",
       "    .dataframe tbody tr th {\n",
       "        vertical-align: top;\n",
       "    }\n",
       "\n",
       "    .dataframe thead th {\n",
       "        text-align: right;\n",
       "    }\n",
       "</style>\n",
       "<table border=\"1\" class=\"dataframe\">\n",
       "  <thead>\n",
       "    <tr style=\"text-align: right;\">\n",
       "      <th></th>\n",
       "      <th>alardeia</th>\n",
       "      <th>alegria</th>\n",
       "      <th>alma</th>\n",
       "      <th>amigo</th>\n",
       "      <th>amizade</th>\n",
       "      <th>amo</th>\n",
       "      <th>amor</th>\n",
       "      <th>bem</th>\n",
       "      <th>brindado</th>\n",
       "      <th>corpo</th>\n",
       "      <th>...</th>\n",
       "      <th>saudades</th>\n",
       "      <th>sente</th>\n",
       "      <th>sofrerá</th>\n",
       "      <th>sofrimento</th>\n",
       "      <th>solidão</th>\n",
       "      <th>todas</th>\n",
       "      <th>todos</th>\n",
       "      <th>traficante</th>\n",
       "      <th>verdadeira</th>\n",
       "      <th>vida</th>\n",
       "    </tr>\n",
       "    <tr>\n",
       "      <th>Frases</th>\n",
       "      <th></th>\n",
       "      <th></th>\n",
       "      <th></th>\n",
       "      <th></th>\n",
       "      <th></th>\n",
       "      <th></th>\n",
       "      <th></th>\n",
       "      <th></th>\n",
       "      <th></th>\n",
       "      <th></th>\n",
       "      <th></th>\n",
       "      <th></th>\n",
       "      <th></th>\n",
       "      <th></th>\n",
       "      <th></th>\n",
       "      <th></th>\n",
       "      <th></th>\n",
       "      <th></th>\n",
       "      <th></th>\n",
       "      <th></th>\n",
       "      <th></th>\n",
       "    </tr>\n",
       "  </thead>\n",
       "  <tbody>\n",
       "    <tr>\n",
       "      <th>Não é amigo aquele que alardeia a amizade: é traficante; a amizade sente-se, não se diz</th>\n",
       "      <td>1</td>\n",
       "      <td>0</td>\n",
       "      <td>0</td>\n",
       "      <td>1</td>\n",
       "      <td>2</td>\n",
       "      <td>0</td>\n",
       "      <td>0</td>\n",
       "      <td>0</td>\n",
       "      <td>0</td>\n",
       "      <td>0</td>\n",
       "      <td>...</td>\n",
       "      <td>0</td>\n",
       "      <td>1</td>\n",
       "      <td>0</td>\n",
       "      <td>0</td>\n",
       "      <td>0</td>\n",
       "      <td>0</td>\n",
       "      <td>0</td>\n",
       "      <td>1</td>\n",
       "      <td>0</td>\n",
       "      <td>0</td>\n",
       "    </tr>\n",
       "    <tr>\n",
       "      <th>Eu não sou homem que recuse elogios. Amo-os; eles fazem bem à alma e até ao corpo. As melhores digestões da minha vida são as dos jantares em que sou brindado.</th>\n",
       "      <td>0</td>\n",
       "      <td>0</td>\n",
       "      <td>1</td>\n",
       "      <td>0</td>\n",
       "      <td>0</td>\n",
       "      <td>1</td>\n",
       "      <td>0</td>\n",
       "      <td>1</td>\n",
       "      <td>1</td>\n",
       "      <td>1</td>\n",
       "      <td>...</td>\n",
       "      <td>0</td>\n",
       "      <td>0</td>\n",
       "      <td>0</td>\n",
       "      <td>0</td>\n",
       "      <td>0</td>\n",
       "      <td>0</td>\n",
       "      <td>0</td>\n",
       "      <td>0</td>\n",
       "      <td>0</td>\n",
       "      <td>1</td>\n",
       "    </tr>\n",
       "    <tr>\n",
       "      <th>Quem tem um amigo, mesmo que um só, não importa onde se encontre, jamais sofrerá de solidão; poderá morrer de saudades, mas não estará só. A verdadeira amizade é aquela que nos permite falar, ao amigo, de todos os seus defeitos e de todas as nossas qualidades.</th>\n",
       "      <td>0</td>\n",
       "      <td>0</td>\n",
       "      <td>0</td>\n",
       "      <td>2</td>\n",
       "      <td>1</td>\n",
       "      <td>0</td>\n",
       "      <td>0</td>\n",
       "      <td>0</td>\n",
       "      <td>0</td>\n",
       "      <td>0</td>\n",
       "      <td>...</td>\n",
       "      <td>1</td>\n",
       "      <td>0</td>\n",
       "      <td>1</td>\n",
       "      <td>0</td>\n",
       "      <td>1</td>\n",
       "      <td>1</td>\n",
       "      <td>1</td>\n",
       "      <td>0</td>\n",
       "      <td>1</td>\n",
       "      <td>0</td>\n",
       "    </tr>\n",
       "    <tr>\n",
       "      <th>A amizade é um amor que nunca morre. A amizade desenvolve a felicidade e reduz o sofrimento, duplicando a nossa alegria e dividindo a nossa dor</th>\n",
       "      <td>0</td>\n",
       "      <td>1</td>\n",
       "      <td>0</td>\n",
       "      <td>0</td>\n",
       "      <td>2</td>\n",
       "      <td>0</td>\n",
       "      <td>1</td>\n",
       "      <td>0</td>\n",
       "      <td>0</td>\n",
       "      <td>0</td>\n",
       "      <td>...</td>\n",
       "      <td>0</td>\n",
       "      <td>0</td>\n",
       "      <td>0</td>\n",
       "      <td>1</td>\n",
       "      <td>0</td>\n",
       "      <td>0</td>\n",
       "      <td>0</td>\n",
       "      <td>0</td>\n",
       "      <td>0</td>\n",
       "      <td>0</td>\n",
       "    </tr>\n",
       "  </tbody>\n",
       "</table>\n",
       "<p>4 rows × 47 columns</p>\n",
       "</div>"
      ],
      "text/plain": [
       "                                                    alardeia  alegria  alma  \\\n",
       "Frases                                                                        \n",
       "Não é amigo aquele que alardeia a amizade: é tr...         1        0     0   \n",
       "Eu não sou homem que recuse elogios. Amo-os; el...         0        0     1   \n",
       "Quem tem um amigo, mesmo que um só, não importa...         0        0     0   \n",
       "A amizade é um amor que nunca morre. A amizade ...         0        1     0   \n",
       "\n",
       "                                                    amigo  amizade  amo  amor  \\\n",
       "Frases                                                                          \n",
       "Não é amigo aquele que alardeia a amizade: é tr...      1        2    0     0   \n",
       "Eu não sou homem que recuse elogios. Amo-os; el...      0        0    1     0   \n",
       "Quem tem um amigo, mesmo que um só, não importa...      2        1    0     0   \n",
       "A amizade é um amor que nunca morre. A amizade ...      0        2    0     1   \n",
       "\n",
       "                                                    bem  brindado  corpo  ...  \\\n",
       "Frases                                                                    ...   \n",
       "Não é amigo aquele que alardeia a amizade: é tr...    0         0      0  ...   \n",
       "Eu não sou homem que recuse elogios. Amo-os; el...    1         1      1  ...   \n",
       "Quem tem um amigo, mesmo que um só, não importa...    0         0      0  ...   \n",
       "A amizade é um amor que nunca morre. A amizade ...    0         0      0  ...   \n",
       "\n",
       "                                                    saudades  sente  sofrerá  \\\n",
       "Frases                                                                         \n",
       "Não é amigo aquele que alardeia a amizade: é tr...         0      1        0   \n",
       "Eu não sou homem que recuse elogios. Amo-os; el...         0      0        0   \n",
       "Quem tem um amigo, mesmo que um só, não importa...         1      0        1   \n",
       "A amizade é um amor que nunca morre. A amizade ...         0      0        0   \n",
       "\n",
       "                                                    sofrimento  solidão  \\\n",
       "Frases                                                                    \n",
       "Não é amigo aquele que alardeia a amizade: é tr...           0        0   \n",
       "Eu não sou homem que recuse elogios. Amo-os; el...           0        0   \n",
       "Quem tem um amigo, mesmo que um só, não importa...           0        1   \n",
       "A amizade é um amor que nunca morre. A amizade ...           1        0   \n",
       "\n",
       "                                                    todas  todos  traficante  \\\n",
       "Frases                                                                         \n",
       "Não é amigo aquele que alardeia a amizade: é tr...      0      0           1   \n",
       "Eu não sou homem que recuse elogios. Amo-os; el...      0      0           0   \n",
       "Quem tem um amigo, mesmo que um só, não importa...      1      1           0   \n",
       "A amizade é um amor que nunca morre. A amizade ...      0      0           0   \n",
       "\n",
       "                                                    verdadeira  vida  \n",
       "Frases                                                                \n",
       "Não é amigo aquele que alardeia a amizade: é tr...           0     0  \n",
       "Eu não sou homem que recuse elogios. Amo-os; el...           0     1  \n",
       "Quem tem um amigo, mesmo que um só, não importa...           1     0  \n",
       "A amizade é um amor que nunca morre. A amizade ...           0     0  \n",
       "\n",
       "[4 rows x 47 columns]"
      ]
     },
     "execution_count": 28,
     "metadata": {},
     "output_type": "execute_result"
    }
   ],
   "source": [
    "from sklearn.feature_extraction.text import CountVectorizer\n",
    "          \n",
    "cv = CountVectorizer(stop_words = stopwords.words('portuguese'))\n",
    "X = cv.fit_transform(corpus).toarray()\n",
    "\n",
    "dt = pd.DataFrame(X, columns=cv.get_feature_names_out()).set_index(df.Frases)\n",
    "dt.head()"
   ]
  },
  {
   "cell_type": "markdown",
   "id": "67676eb9",
   "metadata": {},
   "source": [
    "## Listar todas as combinações de frases"
   ]
  },
  {
   "cell_type": "code",
   "execution_count": 29,
   "id": "e3f8a3db",
   "metadata": {
    "ExecuteTime": {
     "end_time": "2022-01-12T20:18:14.148539Z",
     "start_time": "2022-01-12T20:18:14.138452Z"
    }
   },
   "outputs": [
    {
     "data": {
      "text/plain": [
       "[('Não é amigo aquele que alardeia a amizade: é traficante; a amizade sente-se, não se diz',\n",
       "  'Eu não sou homem que recuse elogios. Amo-os; eles fazem bem à alma e até ao corpo. As melhores digestões da minha vida são as dos jantares em que sou brindado.'),\n",
       " ('Não é amigo aquele que alardeia a amizade: é traficante; a amizade sente-se, não se diz',\n",
       "  'Quem tem um amigo, mesmo que um só, não importa onde se encontre, jamais sofrerá de solidão; poderá morrer de saudades, mas não estará só. A verdadeira amizade é aquela que nos permite falar, ao amigo, de todos os seus defeitos e de todas as nossas qualidades.'),\n",
       " ('Não é amigo aquele que alardeia a amizade: é traficante; a amizade sente-se, não se diz',\n",
       "  'A amizade é um amor que nunca morre. A amizade desenvolve a felicidade e reduz o sofrimento, duplicando a nossa alegria e dividindo a nossa dor'),\n",
       " ('Eu não sou homem que recuse elogios. Amo-os; eles fazem bem à alma e até ao corpo. As melhores digestões da minha vida são as dos jantares em que sou brindado.',\n",
       "  'Quem tem um amigo, mesmo que um só, não importa onde se encontre, jamais sofrerá de solidão; poderá morrer de saudades, mas não estará só. A verdadeira amizade é aquela que nos permite falar, ao amigo, de todos os seus defeitos e de todas as nossas qualidades.'),\n",
       " ('Eu não sou homem que recuse elogios. Amo-os; eles fazem bem à alma e até ao corpo. As melhores digestões da minha vida são as dos jantares em que sou brindado.',\n",
       "  'A amizade é um amor que nunca morre. A amizade desenvolve a felicidade e reduz o sofrimento, duplicando a nossa alegria e dividindo a nossa dor')]"
      ]
     },
     "execution_count": 29,
     "metadata": {},
     "output_type": "execute_result"
    }
   ],
   "source": [
    "# Listar todas as combinações de músicas\n",
    "from itertools import combinations\n",
    "\n",
    "pairs = list(combinations(df.Frases.index, 2)) # all song index combos\n",
    "pairs_0 = list(combinations(range(len(df)), 2)) # all index combos starting with (0,1)\n",
    "frases_pairs = [(df.Frases[a_index], df.Frases[b_index]) for (a_index, b_index) in pairs]\n",
    "frases_pairs[:5]"
   ]
  },
  {
   "cell_type": "markdown",
   "id": "3b488933",
   "metadata": {},
   "source": [
    "## Semelhança de cosseno da matriz termo-documento do TF-IDF Vectorizer"
   ]
  },
  {
   "cell_type": "code",
   "execution_count": 30,
   "id": "b871ac97",
   "metadata": {
    "ExecuteTime": {
     "end_time": "2022-01-12T20:18:18.211682Z",
     "start_time": "2022-01-12T20:18:18.201343Z"
    }
   },
   "outputs": [
    {
     "data": {
      "text/plain": [
       "[(0.1845461967543371,\n",
       "  ('Não é amigo aquele que alardeia a amizade: é traficante; a amizade sente-se, não se diz',\n",
       "   'Quem tem um amigo, mesmo que um só, não importa onde se encontre, jamais sofrerá de solidão; poderá morrer de saudades, mas não estará só. A verdadeira amizade é aquela que nos permite falar, ao amigo, de todos os seus defeitos e de todas as nossas qualidades.')),\n",
       " (0.18340605183331393,\n",
       "  ('Não é amigo aquele que alardeia a amizade: é traficante; a amizade sente-se, não se diz',\n",
       "   'A amizade é um amor que nunca morre. A amizade desenvolve a felicidade e reduz o sofrimento, duplicando a nossa alegria e dividindo a nossa dor')),\n",
       " (0.05140529792225965,\n",
       "  ('Quem tem um amigo, mesmo que um só, não importa onde se encontre, jamais sofrerá de solidão; poderá morrer de saudades, mas não estará só. A verdadeira amizade é aquela que nos permite falar, ao amigo, de todos os seus defeitos e de todas as nossas qualidades.',\n",
       "   'A amizade é um amor que nunca morre. A amizade desenvolve a felicidade e reduz o sofrimento, duplicando a nossa alegria e dividindo a nossa dor')),\n",
       " (0.0,\n",
       "  ('Não é amigo aquele que alardeia a amizade: é traficante; a amizade sente-se, não se diz',\n",
       "   'Eu não sou homem que recuse elogios. Amo-os; eles fazem bem à alma e até ao corpo. As melhores digestões da minha vida são as dos jantares em que sou brindado.')),\n",
       " (0.0,\n",
       "  ('Eu não sou homem que recuse elogios. Amo-os; eles fazem bem à alma e até ao corpo. As melhores digestões da minha vida são as dos jantares em que sou brindado.',\n",
       "   'Quem tem um amigo, mesmo que um só, não importa onde se encontre, jamais sofrerá de solidão; poderá morrer de saudades, mas não estará só. A verdadeira amizade é aquela que nos permite falar, ao amigo, de todos os seus defeitos e de todas as nossas qualidades.')),\n",
       " (0.0,\n",
       "  ('Eu não sou homem que recuse elogios. Amo-os; eles fazem bem à alma e até ao corpo. As melhores digestões da minha vida são as dos jantares em que sou brindado.',\n",
       "   'A amizade é um amor que nunca morre. A amizade desenvolve a felicidade e reduz o sofrimento, duplicando a nossa alegria e dividindo a nossa dor'))]"
      ]
     },
     "execution_count": 30,
     "metadata": {},
     "output_type": "execute_result"
    }
   ],
   "source": [
    "results = [cosine(X_tfidf[a_index], X_tfidf[b_index]) for (a_index, b_index) in pairs_0]\n",
    "sorted(zip(results, frases_pairs), reverse=True)"
   ]
  },
  {
   "cell_type": "markdown",
   "id": "b6f602ea",
   "metadata": {},
   "source": [
    "## Semelhança de cosseno da matriz termo-documento do bag of words Vectorizer"
   ]
  },
  {
   "cell_type": "code",
   "execution_count": 31,
   "id": "f732c442",
   "metadata": {
    "ExecuteTime": {
     "end_time": "2022-01-12T20:18:24.068595Z",
     "start_time": "2022-01-12T20:18:24.057985Z"
    }
   },
   "outputs": [
    {
     "data": {
      "text/plain": [
       "[(0.3442651863295481,\n",
       "  ('Não é amigo aquele que alardeia a amizade: é traficante; a amizade sente-se, não se diz',\n",
       "   'A amizade é um amor que nunca morre. A amizade desenvolve a felicidade e reduz o sofrimento, duplicando a nossa alegria e dividindo a nossa dor')),\n",
       " (0.2842676218074806,\n",
       "  ('Não é amigo aquele que alardeia a amizade: é traficante; a amizade sente-se, não se diz',\n",
       "   'Quem tem um amigo, mesmo que um só, não importa onde se encontre, jamais sofrerá de solidão; poderá morrer de saudades, mas não estará só. A verdadeira amizade é aquela que nos permite falar, ao amigo, de todos os seus defeitos e de todas as nossas qualidades.')),\n",
       " (0.11009637651263604,\n",
       "  ('Quem tem um amigo, mesmo que um só, não importa onde se encontre, jamais sofrerá de solidão; poderá morrer de saudades, mas não estará só. A verdadeira amizade é aquela que nos permite falar, ao amigo, de todos os seus defeitos e de todas as nossas qualidades.',\n",
       "   'A amizade é um amor que nunca morre. A amizade desenvolve a felicidade e reduz o sofrimento, duplicando a nossa alegria e dividindo a nossa dor')),\n",
       " (0.0,\n",
       "  ('Não é amigo aquele que alardeia a amizade: é traficante; a amizade sente-se, não se diz',\n",
       "   'Eu não sou homem que recuse elogios. Amo-os; eles fazem bem à alma e até ao corpo. As melhores digestões da minha vida são as dos jantares em que sou brindado.')),\n",
       " (0.0,\n",
       "  ('Eu não sou homem que recuse elogios. Amo-os; eles fazem bem à alma e até ao corpo. As melhores digestões da minha vida são as dos jantares em que sou brindado.',\n",
       "   'Quem tem um amigo, mesmo que um só, não importa onde se encontre, jamais sofrerá de solidão; poderá morrer de saudades, mas não estará só. A verdadeira amizade é aquela que nos permite falar, ao amigo, de todos os seus defeitos e de todas as nossas qualidades.')),\n",
       " (0.0,\n",
       "  ('Eu não sou homem que recuse elogios. Amo-os; eles fazem bem à alma e até ao corpo. As melhores digestões da minha vida são as dos jantares em que sou brindado.',\n",
       "   'A amizade é um amor que nunca morre. A amizade desenvolve a felicidade e reduz o sofrimento, duplicando a nossa alegria e dividindo a nossa dor'))]"
      ]
     },
     "execution_count": 31,
     "metadata": {},
     "output_type": "execute_result"
    }
   ],
   "source": [
    "results = [cosine(X[a_index], X[b_index]) for (a_index, b_index) in pairs_0]\n",
    "sorted(zip(results, frases_pairs), reverse=True)"
   ]
  },
  {
   "cell_type": "code",
   "execution_count": null,
   "id": "925c6807",
   "metadata": {},
   "outputs": [],
   "source": []
  }
 ],
 "metadata": {
  "kernelspec": {
   "display_name": "Python 3 (ipykernel)",
   "language": "python",
   "name": "python3"
  },
  "language_info": {
   "codemirror_mode": {
    "name": "ipython",
    "version": 3
   },
   "file_extension": ".py",
   "mimetype": "text/x-python",
   "name": "python",
   "nbconvert_exporter": "python",
   "pygments_lexer": "ipython3",
   "version": "3.8.11"
  }
 },
 "nbformat": 4,
 "nbformat_minor": 5
}
