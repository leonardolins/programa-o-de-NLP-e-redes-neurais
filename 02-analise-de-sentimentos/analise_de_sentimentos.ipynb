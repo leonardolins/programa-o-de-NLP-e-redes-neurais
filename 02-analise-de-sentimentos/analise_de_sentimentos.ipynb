{
 "cells": [
  {
   "cell_type": "markdown",
   "id": "187c896c",
   "metadata": {},
   "source": [
    "# Classificação de sentimentos"
   ]
  },
  {
   "cell_type": "markdown",
   "id": "d72c5802",
   "metadata": {},
   "source": [
    "Por favor desenvolva um exercício de classificação com a seguinte base de tweets, utilize unicamente a base de teste.csv como teste para padronizar resultados. Vamos colocar os resultados parciais no mural, e compartilhando informações e notebooks pelo mural. link kaggle da base de dados https://www.kaggle.com/datatattle/covid-19-nlp-text-classification"
   ]
  },
  {
   "cell_type": "markdown",
   "id": "c085f32e",
   "metadata": {},
   "source": [
    "## Carregar e analisar os dados"
   ]
  },
  {
   "cell_type": "code",
   "execution_count": 1,
   "id": "b4985475",
   "metadata": {
    "ExecuteTime": {
     "end_time": "2022-01-17T02:41:15.957505Z",
     "start_time": "2022-01-17T02:41:14.970636Z"
    }
   },
   "outputs": [],
   "source": [
    "import pandas as pd\n",
    "corona_train = pd.read_csv('Corona_NLP_train.csv', encoding=\"ISO-8859-1\")\n",
    "corona_test = pd.read_csv('Corona_NLP_test.csv')"
   ]
  },
  {
   "cell_type": "code",
   "execution_count": 2,
   "id": "49361960",
   "metadata": {
    "ExecuteTime": {
     "end_time": "2022-01-17T02:41:15.972016Z",
     "start_time": "2022-01-17T02:41:15.960592Z"
    }
   },
   "outputs": [],
   "source": [
    "df = pd.concat([corona_train,corona_test])"
   ]
  },
  {
   "cell_type": "code",
   "execution_count": 3,
   "id": "2e2fb213",
   "metadata": {
    "ExecuteTime": {
     "end_time": "2022-01-17T02:41:16.016784Z",
     "start_time": "2022-01-17T02:41:15.975532Z"
    }
   },
   "outputs": [
    {
     "data": {
      "text/html": [
       "<div>\n",
       "<style scoped>\n",
       "    .dataframe tbody tr th:only-of-type {\n",
       "        vertical-align: middle;\n",
       "    }\n",
       "\n",
       "    .dataframe tbody tr th {\n",
       "        vertical-align: top;\n",
       "    }\n",
       "\n",
       "    .dataframe thead th {\n",
       "        text-align: right;\n",
       "    }\n",
       "</style>\n",
       "<table border=\"1\" class=\"dataframe\">\n",
       "  <thead>\n",
       "    <tr style=\"text-align: right;\">\n",
       "      <th></th>\n",
       "      <th>UserName</th>\n",
       "      <th>ScreenName</th>\n",
       "      <th>Location</th>\n",
       "      <th>TweetAt</th>\n",
       "      <th>OriginalTweet</th>\n",
       "      <th>Sentiment</th>\n",
       "    </tr>\n",
       "  </thead>\n",
       "  <tbody>\n",
       "    <tr>\n",
       "      <th>0</th>\n",
       "      <td>3799</td>\n",
       "      <td>48751</td>\n",
       "      <td>London</td>\n",
       "      <td>16-03-2020</td>\n",
       "      <td>@MeNyrbie @Phil_Gahan @Chrisitv https://t.co/i...</td>\n",
       "      <td>Neutral</td>\n",
       "    </tr>\n",
       "    <tr>\n",
       "      <th>1</th>\n",
       "      <td>3800</td>\n",
       "      <td>48752</td>\n",
       "      <td>UK</td>\n",
       "      <td>16-03-2020</td>\n",
       "      <td>advice Talk to your neighbours family to excha...</td>\n",
       "      <td>Positive</td>\n",
       "    </tr>\n",
       "    <tr>\n",
       "      <th>2</th>\n",
       "      <td>3801</td>\n",
       "      <td>48753</td>\n",
       "      <td>Vagabonds</td>\n",
       "      <td>16-03-2020</td>\n",
       "      <td>Coronavirus Australia: Woolworths to give elde...</td>\n",
       "      <td>Positive</td>\n",
       "    </tr>\n",
       "    <tr>\n",
       "      <th>3</th>\n",
       "      <td>3802</td>\n",
       "      <td>48754</td>\n",
       "      <td>NaN</td>\n",
       "      <td>16-03-2020</td>\n",
       "      <td>My food stock is not the only one which is emp...</td>\n",
       "      <td>Positive</td>\n",
       "    </tr>\n",
       "    <tr>\n",
       "      <th>4</th>\n",
       "      <td>3803</td>\n",
       "      <td>48755</td>\n",
       "      <td>NaN</td>\n",
       "      <td>16-03-2020</td>\n",
       "      <td>Me, ready to go at supermarket during the #COV...</td>\n",
       "      <td>Extremely Negative</td>\n",
       "    </tr>\n",
       "  </tbody>\n",
       "</table>\n",
       "</div>"
      ],
      "text/plain": [
       "   UserName  ScreenName   Location     TweetAt  \\\n",
       "0      3799       48751     London  16-03-2020   \n",
       "1      3800       48752         UK  16-03-2020   \n",
       "2      3801       48753  Vagabonds  16-03-2020   \n",
       "3      3802       48754        NaN  16-03-2020   \n",
       "4      3803       48755        NaN  16-03-2020   \n",
       "\n",
       "                                       OriginalTweet           Sentiment  \n",
       "0  @MeNyrbie @Phil_Gahan @Chrisitv https://t.co/i...             Neutral  \n",
       "1  advice Talk to your neighbours family to excha...            Positive  \n",
       "2  Coronavirus Australia: Woolworths to give elde...            Positive  \n",
       "3  My food stock is not the only one which is emp...            Positive  \n",
       "4  Me, ready to go at supermarket during the #COV...  Extremely Negative  "
      ]
     },
     "execution_count": 3,
     "metadata": {},
     "output_type": "execute_result"
    }
   ],
   "source": [
    "df.head()"
   ]
  },
  {
   "cell_type": "code",
   "execution_count": 4,
   "id": "e7291172",
   "metadata": {
    "ExecuteTime": {
     "end_time": "2022-01-17T02:41:16.034580Z",
     "start_time": "2022-01-17T02:41:16.023010Z"
    }
   },
   "outputs": [],
   "source": [
    "data = df[['OriginalTweet','Sentiment']]"
   ]
  },
  {
   "cell_type": "code",
   "execution_count": 5,
   "id": "7adae748",
   "metadata": {
    "ExecuteTime": {
     "end_time": "2022-01-17T02:41:16.046054Z",
     "start_time": "2022-01-17T02:41:16.038282Z"
    }
   },
   "outputs": [
    {
     "data": {
      "text/plain": [
       "44955"
      ]
     },
     "execution_count": 5,
     "metadata": {},
     "output_type": "execute_result"
    }
   ],
   "source": [
    "# total de twitters\n",
    "len(data)"
   ]
  },
  {
   "cell_type": "code",
   "execution_count": 6,
   "id": "26d96cba",
   "metadata": {
    "ExecuteTime": {
     "end_time": "2022-01-17T02:41:16.067376Z",
     "start_time": "2022-01-17T02:41:16.049021Z"
    }
   },
   "outputs": [
    {
     "name": "stdout",
     "output_type": "stream",
     "text": [
      "OriginalTweet    0\n",
      "Sentiment        0\n",
      "dtype: int64\n"
     ]
    }
   ],
   "source": [
    "#verificar se há nulls nos dados\n",
    "print(data.isnull().sum())"
   ]
  },
  {
   "cell_type": "code",
   "execution_count": 7,
   "id": "f701e099",
   "metadata": {
    "ExecuteTime": {
     "end_time": "2022-01-17T02:41:16.084148Z",
     "start_time": "2022-01-17T02:41:16.071126Z"
    }
   },
   "outputs": [
    {
     "data": {
      "text/plain": [
       "Positive              12369\n",
       "Negative              10958\n",
       "Neutral                8332\n",
       "Extremely Positive     7223\n",
       "Extremely Negative     6073\n",
       "Name: Sentiment, dtype: int64"
      ]
     },
     "execution_count": 7,
     "metadata": {},
     "output_type": "execute_result"
    }
   ],
   "source": [
    "data.Sentiment.value_counts()"
   ]
  },
  {
   "cell_type": "code",
   "execution_count": 8,
   "id": "f3d8ff4d",
   "metadata": {
    "ExecuteTime": {
     "end_time": "2022-01-17T02:41:16.101728Z",
     "start_time": "2022-01-17T02:41:16.087515Z"
    }
   },
   "outputs": [
    {
     "data": {
      "text/plain": [
       "Positive              0.275142\n",
       "Negative              0.243755\n",
       "Neutral               0.185341\n",
       "Extremely Positive    0.160672\n",
       "Extremely Negative    0.135091\n",
       "Name: Sentiment, dtype: float64"
      ]
     },
     "execution_count": 8,
     "metadata": {},
     "output_type": "execute_result"
    }
   ],
   "source": [
    "# Percentural\n",
    "data.Sentiment.value_counts(normalize=True) #normalizar para porcentagem."
   ]
  },
  {
   "cell_type": "code",
   "execution_count": 9,
   "id": "7e6c8d19",
   "metadata": {
    "ExecuteTime": {
     "end_time": "2022-01-17T02:41:16.149725Z",
     "start_time": "2022-01-17T02:41:16.104764Z"
    }
   },
   "outputs": [
    {
     "data": {
      "text/plain": [
       "255    2440\n",
       "280     511\n",
       "279     476\n",
       "278     422\n",
       "277     370\n",
       "Name: OriginalTweet, dtype: int64"
      ]
     },
     "execution_count": 9,
     "metadata": {},
     "output_type": "execute_result"
    }
   ],
   "source": [
    "# Isso nos diz que houve 2440 twitters com 255 caracteres\n",
    "data.OriginalTweet.map(len).value_counts().head()"
   ]
  },
  {
   "cell_type": "code",
   "execution_count": 10,
   "id": "03d11e13",
   "metadata": {
    "ExecuteTime": {
     "end_time": "2022-01-17T02:41:16.167850Z",
     "start_time": "2022-01-17T02:41:16.156146Z"
    }
   },
   "outputs": [
    {
     "data": {
      "text/html": [
       "<div>\n",
       "<style scoped>\n",
       "    .dataframe tbody tr th:only-of-type {\n",
       "        vertical-align: middle;\n",
       "    }\n",
       "\n",
       "    .dataframe tbody tr th {\n",
       "        vertical-align: top;\n",
       "    }\n",
       "\n",
       "    .dataframe thead th {\n",
       "        text-align: right;\n",
       "    }\n",
       "</style>\n",
       "<table border=\"1\" class=\"dataframe\">\n",
       "  <thead>\n",
       "    <tr style=\"text-align: right;\">\n",
       "      <th></th>\n",
       "      <th>OriginalTweet</th>\n",
       "      <th>Sentiment</th>\n",
       "    </tr>\n",
       "  </thead>\n",
       "  <tbody>\n",
       "    <tr>\n",
       "      <th>0</th>\n",
       "      <td>@MeNyrbie @Phil_Gahan @Chrisitv https://t.co/i...</td>\n",
       "      <td>Neutral</td>\n",
       "    </tr>\n",
       "    <tr>\n",
       "      <th>1</th>\n",
       "      <td>advice Talk to your neighbours family to excha...</td>\n",
       "      <td>Positive</td>\n",
       "    </tr>\n",
       "    <tr>\n",
       "      <th>2</th>\n",
       "      <td>Coronavirus Australia: Woolworths to give elde...</td>\n",
       "      <td>Positive</td>\n",
       "    </tr>\n",
       "    <tr>\n",
       "      <th>3</th>\n",
       "      <td>My food stock is not the only one which is emp...</td>\n",
       "      <td>Positive</td>\n",
       "    </tr>\n",
       "    <tr>\n",
       "      <th>4</th>\n",
       "      <td>Me, ready to go at supermarket during the #COV...</td>\n",
       "      <td>Extremely Negative</td>\n",
       "    </tr>\n",
       "  </tbody>\n",
       "</table>\n",
       "</div>"
      ],
      "text/plain": [
       "                                       OriginalTweet           Sentiment\n",
       "0  @MeNyrbie @Phil_Gahan @Chrisitv https://t.co/i...             Neutral\n",
       "1  advice Talk to your neighbours family to excha...            Positive\n",
       "2  Coronavirus Australia: Woolworths to give elde...            Positive\n",
       "3  My food stock is not the only one which is emp...            Positive\n",
       "4  Me, ready to go at supermarket during the #COV...  Extremely Negative"
      ]
     },
     "execution_count": 10,
     "metadata": {},
     "output_type": "execute_result"
    }
   ],
   "source": [
    "data.head()"
   ]
  },
  {
   "cell_type": "markdown",
   "id": "4470a83b",
   "metadata": {},
   "source": [
    "## Pré-processamento"
   ]
  },
  {
   "cell_type": "markdown",
   "id": "faae34e4",
   "metadata": {},
   "source": [
    "### Limpeza de Dados"
   ]
  },
  {
   "cell_type": "code",
   "execution_count": 11,
   "id": "d54ce2c4",
   "metadata": {
    "ExecuteTime": {
     "end_time": "2022-01-17T02:41:19.746890Z",
     "start_time": "2022-01-17T02:41:16.171229Z"
    }
   },
   "outputs": [],
   "source": [
    "# Etapas de pré-processamento de texto - remover hiperlinks, remova números, letras maiúsculas e pontuação\n",
    "import re\n",
    "import string\n",
    "\n",
    "remove_mentions = lambda x: re.sub(r\"@[A-Za-z0-9_]+\", \"\", x) # remove @\n",
    "remove_hashtag = lambda x: re.sub(r\"#[A-Za-z0-9_]+\", \"\", x) # remove #\n",
    "remove_url = lambda x: re.sub(r\"\\w+:\\/\\/\\S+\", \" \", x) # remove urls\n",
    "lower_alpha = lambda x: re.sub(r\"\\w*\\d\\w*\", \" \", x.lower()) # remove todas as palavras com números e também torna todas as palavras em minúsculas\n",
    "#punc_re = lambda x: re.sub(\"[%s]\" % re.escape(string.punctuation), \" \", x) # remove pontuação\n",
    "remove_non_alpha = lambda x: re.sub(r\"[^0-9A-Za-z \\t]\", \"\", x) #remove caracteres náo alfanuméricos\n",
    "\n",
    "data = data.copy()\n",
    "data.loc[:,'ModifyTweet'] = data.OriginalTweet.map(remove_mentions).map(remove_hashtag).map(remove_url).map(lower_alpha).map(remove_non_alpha)"
   ]
  },
  {
   "cell_type": "code",
   "execution_count": 12,
   "id": "96b17220",
   "metadata": {
    "ExecuteTime": {
     "end_time": "2022-01-17T02:41:19.776645Z",
     "start_time": "2022-01-17T02:41:19.751936Z"
    }
   },
   "outputs": [
    {
     "data": {
      "text/html": [
       "<div>\n",
       "<style scoped>\n",
       "    .dataframe tbody tr th:only-of-type {\n",
       "        vertical-align: middle;\n",
       "    }\n",
       "\n",
       "    .dataframe tbody tr th {\n",
       "        vertical-align: top;\n",
       "    }\n",
       "\n",
       "    .dataframe thead th {\n",
       "        text-align: right;\n",
       "    }\n",
       "</style>\n",
       "<table border=\"1\" class=\"dataframe\">\n",
       "  <thead>\n",
       "    <tr style=\"text-align: right;\">\n",
       "      <th></th>\n",
       "      <th>OriginalTweet</th>\n",
       "      <th>Sentiment</th>\n",
       "      <th>ModifyTweet</th>\n",
       "    </tr>\n",
       "  </thead>\n",
       "  <tbody>\n",
       "    <tr>\n",
       "      <th>0</th>\n",
       "      <td>@MeNyrbie @Phil_Gahan @Chrisitv https://t.co/i...</td>\n",
       "      <td>Neutral</td>\n",
       "      <td>and   and</td>\n",
       "    </tr>\n",
       "    <tr>\n",
       "      <th>1</th>\n",
       "      <td>advice Talk to your neighbours family to excha...</td>\n",
       "      <td>Positive</td>\n",
       "      <td>advice talk to your neighbours family to excha...</td>\n",
       "    </tr>\n",
       "    <tr>\n",
       "      <th>2</th>\n",
       "      <td>Coronavirus Australia: Woolworths to give elde...</td>\n",
       "      <td>Positive</td>\n",
       "      <td>coronavirus australia woolworths to give elder...</td>\n",
       "    </tr>\n",
       "    <tr>\n",
       "      <th>3</th>\n",
       "      <td>My food stock is not the only one which is emp...</td>\n",
       "      <td>Positive</td>\n",
       "      <td>my food stock is not the only one which is emp...</td>\n",
       "    </tr>\n",
       "    <tr>\n",
       "      <th>4</th>\n",
       "      <td>Me, ready to go at supermarket during the #COV...</td>\n",
       "      <td>Extremely Negative</td>\n",
       "      <td>me ready to go at supermarket during the  outb...</td>\n",
       "    </tr>\n",
       "  </tbody>\n",
       "</table>\n",
       "</div>"
      ],
      "text/plain": [
       "                                       OriginalTweet           Sentiment  \\\n",
       "0  @MeNyrbie @Phil_Gahan @Chrisitv https://t.co/i...             Neutral   \n",
       "1  advice Talk to your neighbours family to excha...            Positive   \n",
       "2  Coronavirus Australia: Woolworths to give elde...            Positive   \n",
       "3  My food stock is not the only one which is emp...            Positive   \n",
       "4  Me, ready to go at supermarket during the #COV...  Extremely Negative   \n",
       "\n",
       "                                         ModifyTweet  \n",
       "0                                        and   and    \n",
       "1  advice talk to your neighbours family to excha...  \n",
       "2  coronavirus australia woolworths to give elder...  \n",
       "3  my food stock is not the only one which is emp...  \n",
       "4  me ready to go at supermarket during the  outb...  "
      ]
     },
     "execution_count": 12,
     "metadata": {},
     "output_type": "execute_result"
    }
   ],
   "source": [
    "data.head()"
   ]
  },
  {
   "cell_type": "code",
   "execution_count": 13,
   "id": "1f3c4d53",
   "metadata": {
    "ExecuteTime": {
     "end_time": "2022-01-17T02:41:19.791829Z",
     "start_time": "2022-01-17T02:41:19.780228Z"
    }
   },
   "outputs": [
    {
     "data": {
      "text/plain": [
       "\"Me, ready to go at supermarket during the #COVID19 outbreak.\\r\\r\\n\\r\\r\\nNot because I'm paranoid, but because my food stock is litteraly empty. The #coronavirus is a serious thing, but please, don't panic. It causes shortage...\\r\\r\\n\\r\\r\\n#CoronavirusFrance #restezchezvous #StayAtHome #confinement https://t.co/usmuaLq72n\""
      ]
     },
     "execution_count": 13,
     "metadata": {},
     "output_type": "execute_result"
    }
   ],
   "source": [
    "data.OriginalTweet.iloc[4]"
   ]
  },
  {
   "cell_type": "code",
   "execution_count": 14,
   "id": "0367df3c",
   "metadata": {
    "ExecuteTime": {
     "end_time": "2022-01-17T02:41:19.818727Z",
     "start_time": "2022-01-17T02:41:19.802985Z"
    }
   },
   "outputs": [
    {
     "data": {
      "text/plain": [
       "'me ready to go at supermarket during the  outbreaknot because im paranoid but because my food stock is litteraly empty the  is a serious thing but please dont panic it causes shortage     '"
      ]
     },
     "execution_count": 14,
     "metadata": {},
     "output_type": "execute_result"
    }
   ],
   "source": [
    "data.ModifyTweet.iloc[4]"
   ]
  },
  {
   "cell_type": "code",
   "execution_count": 15,
   "id": "309ecd12",
   "metadata": {
    "ExecuteTime": {
     "end_time": "2022-01-17T02:41:19.831419Z",
     "start_time": "2022-01-17T02:41:19.824777Z"
    }
   },
   "outputs": [],
   "source": [
    "arranjar = lambda x: ' '.join(x.split())"
   ]
  },
  {
   "cell_type": "code",
   "execution_count": 16,
   "id": "82183ecd",
   "metadata": {
    "ExecuteTime": {
     "end_time": "2022-01-17T02:41:20.047318Z",
     "start_time": "2022-01-17T02:41:19.836106Z"
    }
   },
   "outputs": [],
   "source": [
    "data['ModifyTweet_2'] = data.ModifyTweet.map(arranjar)"
   ]
  },
  {
   "cell_type": "code",
   "execution_count": 17,
   "id": "9e02c0c8",
   "metadata": {
    "ExecuteTime": {
     "end_time": "2022-01-17T02:41:20.061134Z",
     "start_time": "2022-01-17T02:41:20.050172Z"
    }
   },
   "outputs": [
    {
     "data": {
      "text/plain": [
       "'me ready to go at supermarket during the outbreaknot because im paranoid but because my food stock is litteraly empty the is a serious thing but please dont panic it causes shortage'"
      ]
     },
     "execution_count": 17,
     "metadata": {},
     "output_type": "execute_result"
    }
   ],
   "source": [
    "data.ModifyTweet_2.iloc[4]"
   ]
  },
  {
   "cell_type": "markdown",
   "id": "99267a41",
   "metadata": {},
   "source": [
    "## Tokenizar"
   ]
  },
  {
   "cell_type": "code",
   "execution_count": 18,
   "id": "23f1c0ef",
   "metadata": {
    "ExecuteTime": {
     "end_time": "2022-01-17T02:41:35.950356Z",
     "start_time": "2022-01-17T02:41:20.064444Z"
    }
   },
   "outputs": [
    {
     "name": "stderr",
     "output_type": "stream",
     "text": [
      "[nltk_data] Downloading package punkt to\n",
      "[nltk_data]     /Users/LeonardoLins/nltk_data...\n",
      "[nltk_data]   Package punkt is already up-to-date!\n"
     ]
    },
    {
     "data": {
      "text/html": [
       "<div>\n",
       "<style scoped>\n",
       "    .dataframe tbody tr th:only-of-type {\n",
       "        vertical-align: middle;\n",
       "    }\n",
       "\n",
       "    .dataframe tbody tr th {\n",
       "        vertical-align: top;\n",
       "    }\n",
       "\n",
       "    .dataframe thead th {\n",
       "        text-align: right;\n",
       "    }\n",
       "</style>\n",
       "<table border=\"1\" class=\"dataframe\">\n",
       "  <thead>\n",
       "    <tr style=\"text-align: right;\">\n",
       "      <th></th>\n",
       "      <th>OriginalTweet</th>\n",
       "      <th>Sentiment</th>\n",
       "      <th>ModifyTweet</th>\n",
       "      <th>ModifyTweet_2</th>\n",
       "      <th>tokens</th>\n",
       "    </tr>\n",
       "  </thead>\n",
       "  <tbody>\n",
       "    <tr>\n",
       "      <th>0</th>\n",
       "      <td>@MeNyrbie @Phil_Gahan @Chrisitv https://t.co/i...</td>\n",
       "      <td>Neutral</td>\n",
       "      <td>and   and</td>\n",
       "      <td>and and</td>\n",
       "      <td>[and, and]</td>\n",
       "    </tr>\n",
       "    <tr>\n",
       "      <th>1</th>\n",
       "      <td>advice Talk to your neighbours family to excha...</td>\n",
       "      <td>Positive</td>\n",
       "      <td>advice talk to your neighbours family to excha...</td>\n",
       "      <td>advice talk to your neighbours family to excha...</td>\n",
       "      <td>[advice, talk, to, your, neighbours, family, t...</td>\n",
       "    </tr>\n",
       "    <tr>\n",
       "      <th>2</th>\n",
       "      <td>Coronavirus Australia: Woolworths to give elde...</td>\n",
       "      <td>Positive</td>\n",
       "      <td>coronavirus australia woolworths to give elder...</td>\n",
       "      <td>coronavirus australia woolworths to give elder...</td>\n",
       "      <td>[coronavirus, australia, woolworths, to, give,...</td>\n",
       "    </tr>\n",
       "    <tr>\n",
       "      <th>3</th>\n",
       "      <td>My food stock is not the only one which is emp...</td>\n",
       "      <td>Positive</td>\n",
       "      <td>my food stock is not the only one which is emp...</td>\n",
       "      <td>my food stock is not the only one which is emp...</td>\n",
       "      <td>[my, food, stock, is, not, the, only, one, whi...</td>\n",
       "    </tr>\n",
       "    <tr>\n",
       "      <th>4</th>\n",
       "      <td>Me, ready to go at supermarket during the #COV...</td>\n",
       "      <td>Extremely Negative</td>\n",
       "      <td>me ready to go at supermarket during the  outb...</td>\n",
       "      <td>me ready to go at supermarket during the outbr...</td>\n",
       "      <td>[me, ready, to, go, at, supermarket, during, t...</td>\n",
       "    </tr>\n",
       "  </tbody>\n",
       "</table>\n",
       "</div>"
      ],
      "text/plain": [
       "                                       OriginalTweet           Sentiment  \\\n",
       "0  @MeNyrbie @Phil_Gahan @Chrisitv https://t.co/i...             Neutral   \n",
       "1  advice Talk to your neighbours family to excha...            Positive   \n",
       "2  Coronavirus Australia: Woolworths to give elde...            Positive   \n",
       "3  My food stock is not the only one which is emp...            Positive   \n",
       "4  Me, ready to go at supermarket during the #COV...  Extremely Negative   \n",
       "\n",
       "                                         ModifyTweet  \\\n",
       "0                                        and   and     \n",
       "1  advice talk to your neighbours family to excha...   \n",
       "2  coronavirus australia woolworths to give elder...   \n",
       "3  my food stock is not the only one which is emp...   \n",
       "4  me ready to go at supermarket during the  outb...   \n",
       "\n",
       "                                       ModifyTweet_2  \\\n",
       "0                                            and and   \n",
       "1  advice talk to your neighbours family to excha...   \n",
       "2  coronavirus australia woolworths to give elder...   \n",
       "3  my food stock is not the only one which is emp...   \n",
       "4  me ready to go at supermarket during the outbr...   \n",
       "\n",
       "                                              tokens  \n",
       "0                                         [and, and]  \n",
       "1  [advice, talk, to, your, neighbours, family, t...  \n",
       "2  [coronavirus, australia, woolworths, to, give,...  \n",
       "3  [my, food, stock, is, not, the, only, one, whi...  \n",
       "4  [me, ready, to, go, at, supermarket, during, t...  "
      ]
     },
     "execution_count": 18,
     "metadata": {},
     "output_type": "execute_result"
    }
   ],
   "source": [
    "import nltk\n",
    "nltk.download('punkt')\n",
    "from nltk.tokenize import word_tokenize\n",
    "\n",
    "data['tokens'] = data.ModifyTweet_2.map(word_tokenize)\n",
    "data.head()"
   ]
  },
  {
   "cell_type": "markdown",
   "id": "a69042ab",
   "metadata": {},
   "source": [
    "## Stopwords"
   ]
  },
  {
   "cell_type": "code",
   "execution_count": 19,
   "id": "ebb8cb9a",
   "metadata": {
    "ExecuteTime": {
     "end_time": "2022-01-17T02:41:39.417122Z",
     "start_time": "2022-01-17T02:41:35.952828Z"
    }
   },
   "outputs": [
    {
     "name": "stderr",
     "output_type": "stream",
     "text": [
      "[nltk_data] Downloading package stopwords to\n",
      "[nltk_data]     /Users/LeonardoLins/nltk_data...\n",
      "[nltk_data]   Package stopwords is already up-to-date!\n"
     ]
    },
    {
     "data": {
      "text/html": [
       "<div>\n",
       "<style scoped>\n",
       "    .dataframe tbody tr th:only-of-type {\n",
       "        vertical-align: middle;\n",
       "    }\n",
       "\n",
       "    .dataframe tbody tr th {\n",
       "        vertical-align: top;\n",
       "    }\n",
       "\n",
       "    .dataframe thead th {\n",
       "        text-align: right;\n",
       "    }\n",
       "</style>\n",
       "<table border=\"1\" class=\"dataframe\">\n",
       "  <thead>\n",
       "    <tr style=\"text-align: right;\">\n",
       "      <th></th>\n",
       "      <th>OriginalTweet</th>\n",
       "      <th>Sentiment</th>\n",
       "      <th>ModifyTweet</th>\n",
       "      <th>ModifyTweet_2</th>\n",
       "      <th>tokens</th>\n",
       "      <th>tokens_stop</th>\n",
       "    </tr>\n",
       "  </thead>\n",
       "  <tbody>\n",
       "    <tr>\n",
       "      <th>0</th>\n",
       "      <td>@MeNyrbie @Phil_Gahan @Chrisitv https://t.co/i...</td>\n",
       "      <td>Neutral</td>\n",
       "      <td>and   and</td>\n",
       "      <td>and and</td>\n",
       "      <td>[and, and]</td>\n",
       "      <td>[]</td>\n",
       "    </tr>\n",
       "    <tr>\n",
       "      <th>1</th>\n",
       "      <td>advice Talk to your neighbours family to excha...</td>\n",
       "      <td>Positive</td>\n",
       "      <td>advice talk to your neighbours family to excha...</td>\n",
       "      <td>advice talk to your neighbours family to excha...</td>\n",
       "      <td>[advice, talk, to, your, neighbours, family, t...</td>\n",
       "      <td>[advice, talk, neighbours, family, exchange, p...</td>\n",
       "    </tr>\n",
       "    <tr>\n",
       "      <th>2</th>\n",
       "      <td>Coronavirus Australia: Woolworths to give elde...</td>\n",
       "      <td>Positive</td>\n",
       "      <td>coronavirus australia woolworths to give elder...</td>\n",
       "      <td>coronavirus australia woolworths to give elder...</td>\n",
       "      <td>[coronavirus, australia, woolworths, to, give,...</td>\n",
       "      <td>[coronavirus, australia, woolworths, give, eld...</td>\n",
       "    </tr>\n",
       "    <tr>\n",
       "      <th>3</th>\n",
       "      <td>My food stock is not the only one which is emp...</td>\n",
       "      <td>Positive</td>\n",
       "      <td>my food stock is not the only one which is emp...</td>\n",
       "      <td>my food stock is not the only one which is emp...</td>\n",
       "      <td>[my, food, stock, is, not, the, only, one, whi...</td>\n",
       "      <td>[food, stock, one, emptyplease, dont, panic, e...</td>\n",
       "    </tr>\n",
       "    <tr>\n",
       "      <th>4</th>\n",
       "      <td>Me, ready to go at supermarket during the #COV...</td>\n",
       "      <td>Extremely Negative</td>\n",
       "      <td>me ready to go at supermarket during the  outb...</td>\n",
       "      <td>me ready to go at supermarket during the outbr...</td>\n",
       "      <td>[me, ready, to, go, at, supermarket, during, t...</td>\n",
       "      <td>[ready, go, supermarket, outbreaknot, im, para...</td>\n",
       "    </tr>\n",
       "  </tbody>\n",
       "</table>\n",
       "</div>"
      ],
      "text/plain": [
       "                                       OriginalTweet           Sentiment  \\\n",
       "0  @MeNyrbie @Phil_Gahan @Chrisitv https://t.co/i...             Neutral   \n",
       "1  advice Talk to your neighbours family to excha...            Positive   \n",
       "2  Coronavirus Australia: Woolworths to give elde...            Positive   \n",
       "3  My food stock is not the only one which is emp...            Positive   \n",
       "4  Me, ready to go at supermarket during the #COV...  Extremely Negative   \n",
       "\n",
       "                                         ModifyTweet  \\\n",
       "0                                        and   and     \n",
       "1  advice talk to your neighbours family to excha...   \n",
       "2  coronavirus australia woolworths to give elder...   \n",
       "3  my food stock is not the only one which is emp...   \n",
       "4  me ready to go at supermarket during the  outb...   \n",
       "\n",
       "                                       ModifyTweet_2  \\\n",
       "0                                            and and   \n",
       "1  advice talk to your neighbours family to excha...   \n",
       "2  coronavirus australia woolworths to give elder...   \n",
       "3  my food stock is not the only one which is emp...   \n",
       "4  me ready to go at supermarket during the outbr...   \n",
       "\n",
       "                                              tokens  \\\n",
       "0                                         [and, and]   \n",
       "1  [advice, talk, to, your, neighbours, family, t...   \n",
       "2  [coronavirus, australia, woolworths, to, give,...   \n",
       "3  [my, food, stock, is, not, the, only, one, whi...   \n",
       "4  [me, ready, to, go, at, supermarket, during, t...   \n",
       "\n",
       "                                         tokens_stop  \n",
       "0                                                 []  \n",
       "1  [advice, talk, neighbours, family, exchange, p...  \n",
       "2  [coronavirus, australia, woolworths, give, eld...  \n",
       "3  [food, stock, one, emptyplease, dont, panic, e...  \n",
       "4  [ready, go, supermarket, outbreaknot, im, para...  "
      ]
     },
     "execution_count": 19,
     "metadata": {},
     "output_type": "execute_result"
    }
   ],
   "source": [
    "# Remova as stop words\n",
    "from nltk.corpus import stopwords\n",
    "nltk.download(\"stopwords\")\n",
    "\n",
    "stop_words = stopwords.words('english')\n",
    "\n",
    "stop_lambda = lambda x: [y for y in x if y not in stop_words] #todos que estão na stopword saem, os que não estão fica.\n",
    "data['tokens_stop'] = data.tokens.apply(stop_lambda)\n",
    "data.head()"
   ]
  },
  {
   "cell_type": "markdown",
   "id": "f576164d",
   "metadata": {},
   "source": [
    "## Speech tagging"
   ]
  },
  {
   "cell_type": "code",
   "execution_count": 20,
   "id": "a9fd3569",
   "metadata": {
    "ExecuteTime": {
     "end_time": "2022-01-17T02:42:51.699734Z",
     "start_time": "2022-01-17T02:41:39.420880Z"
    }
   },
   "outputs": [
    {
     "name": "stderr",
     "output_type": "stream",
     "text": [
      "[nltk_data] Downloading package averaged_perceptron_tagger to\n",
      "[nltk_data]     /Users/LeonardoLins/nltk_data...\n",
      "[nltk_data]   Package averaged_perceptron_tagger is already up-to-\n",
      "[nltk_data]       date!\n"
     ]
    },
    {
     "data": {
      "text/html": [
       "<div>\n",
       "<style scoped>\n",
       "    .dataframe tbody tr th:only-of-type {\n",
       "        vertical-align: middle;\n",
       "    }\n",
       "\n",
       "    .dataframe tbody tr th {\n",
       "        vertical-align: top;\n",
       "    }\n",
       "\n",
       "    .dataframe thead th {\n",
       "        text-align: right;\n",
       "    }\n",
       "</style>\n",
       "<table border=\"1\" class=\"dataframe\">\n",
       "  <thead>\n",
       "    <tr style=\"text-align: right;\">\n",
       "      <th></th>\n",
       "      <th>OriginalTweet</th>\n",
       "      <th>Sentiment</th>\n",
       "      <th>ModifyTweet</th>\n",
       "      <th>ModifyTweet_2</th>\n",
       "      <th>tokens</th>\n",
       "      <th>tokens_stop</th>\n",
       "      <th>tokens_pos</th>\n",
       "    </tr>\n",
       "  </thead>\n",
       "  <tbody>\n",
       "    <tr>\n",
       "      <th>0</th>\n",
       "      <td>@MeNyrbie @Phil_Gahan @Chrisitv https://t.co/i...</td>\n",
       "      <td>Neutral</td>\n",
       "      <td>and   and</td>\n",
       "      <td>and and</td>\n",
       "      <td>[and, and]</td>\n",
       "      <td>[]</td>\n",
       "      <td>[]</td>\n",
       "    </tr>\n",
       "    <tr>\n",
       "      <th>1</th>\n",
       "      <td>advice Talk to your neighbours family to excha...</td>\n",
       "      <td>Positive</td>\n",
       "      <td>advice talk to your neighbours family to excha...</td>\n",
       "      <td>advice talk to your neighbours family to excha...</td>\n",
       "      <td>[advice, talk, to, your, neighbours, family, t...</td>\n",
       "      <td>[advice, talk, neighbours, family, exchange, p...</td>\n",
       "      <td>[(advice, NN), (talk, NN), (neighbours, IN), (...</td>\n",
       "    </tr>\n",
       "    <tr>\n",
       "      <th>2</th>\n",
       "      <td>Coronavirus Australia: Woolworths to give elde...</td>\n",
       "      <td>Positive</td>\n",
       "      <td>coronavirus australia woolworths to give elder...</td>\n",
       "      <td>coronavirus australia woolworths to give elder...</td>\n",
       "      <td>[coronavirus, australia, woolworths, to, give,...</td>\n",
       "      <td>[coronavirus, australia, woolworths, give, eld...</td>\n",
       "      <td>[(coronavirus, NN), (australia, NNS), (woolwor...</td>\n",
       "    </tr>\n",
       "    <tr>\n",
       "      <th>3</th>\n",
       "      <td>My food stock is not the only one which is emp...</td>\n",
       "      <td>Positive</td>\n",
       "      <td>my food stock is not the only one which is emp...</td>\n",
       "      <td>my food stock is not the only one which is emp...</td>\n",
       "      <td>[my, food, stock, is, not, the, only, one, whi...</td>\n",
       "      <td>[food, stock, one, emptyplease, dont, panic, e...</td>\n",
       "      <td>[(food, NN), (stock, NN), (one, CD), (emptyple...</td>\n",
       "    </tr>\n",
       "    <tr>\n",
       "      <th>4</th>\n",
       "      <td>Me, ready to go at supermarket during the #COV...</td>\n",
       "      <td>Extremely Negative</td>\n",
       "      <td>me ready to go at supermarket during the  outb...</td>\n",
       "      <td>me ready to go at supermarket during the outbr...</td>\n",
       "      <td>[me, ready, to, go, at, supermarket, during, t...</td>\n",
       "      <td>[ready, go, supermarket, outbreaknot, im, para...</td>\n",
       "      <td>[(ready, JJ), (go, VBP), (supermarket, JJ), (o...</td>\n",
       "    </tr>\n",
       "  </tbody>\n",
       "</table>\n",
       "</div>"
      ],
      "text/plain": [
       "                                       OriginalTweet           Sentiment  \\\n",
       "0  @MeNyrbie @Phil_Gahan @Chrisitv https://t.co/i...             Neutral   \n",
       "1  advice Talk to your neighbours family to excha...            Positive   \n",
       "2  Coronavirus Australia: Woolworths to give elde...            Positive   \n",
       "3  My food stock is not the only one which is emp...            Positive   \n",
       "4  Me, ready to go at supermarket during the #COV...  Extremely Negative   \n",
       "\n",
       "                                         ModifyTweet  \\\n",
       "0                                        and   and     \n",
       "1  advice talk to your neighbours family to excha...   \n",
       "2  coronavirus australia woolworths to give elder...   \n",
       "3  my food stock is not the only one which is emp...   \n",
       "4  me ready to go at supermarket during the  outb...   \n",
       "\n",
       "                                       ModifyTweet_2  \\\n",
       "0                                            and and   \n",
       "1  advice talk to your neighbours family to excha...   \n",
       "2  coronavirus australia woolworths to give elder...   \n",
       "3  my food stock is not the only one which is emp...   \n",
       "4  me ready to go at supermarket during the outbr...   \n",
       "\n",
       "                                              tokens  \\\n",
       "0                                         [and, and]   \n",
       "1  [advice, talk, to, your, neighbours, family, t...   \n",
       "2  [coronavirus, australia, woolworths, to, give,...   \n",
       "3  [my, food, stock, is, not, the, only, one, whi...   \n",
       "4  [me, ready, to, go, at, supermarket, during, t...   \n",
       "\n",
       "                                         tokens_stop  \\\n",
       "0                                                 []   \n",
       "1  [advice, talk, neighbours, family, exchange, p...   \n",
       "2  [coronavirus, australia, woolworths, give, eld...   \n",
       "3  [food, stock, one, emptyplease, dont, panic, e...   \n",
       "4  [ready, go, supermarket, outbreaknot, im, para...   \n",
       "\n",
       "                                          tokens_pos  \n",
       "0                                                 []  \n",
       "1  [(advice, NN), (talk, NN), (neighbours, IN), (...  \n",
       "2  [(coronavirus, NN), (australia, NNS), (woolwor...  \n",
       "3  [(food, NN), (stock, NN), (one, CD), (emptyple...  \n",
       "4  [(ready, JJ), (go, VBP), (supermarket, JJ), (o...  "
      ]
     },
     "execution_count": 20,
     "metadata": {},
     "output_type": "execute_result"
    }
   ],
   "source": [
    "# partes de speech tagging\n",
    "from nltk.tag import pos_tag\n",
    "nltk.download('averaged_perceptron_tagger')\n",
    "pos_lambda = lambda x: nltk.pos_tag(x)\n",
    "data['tokens_pos'] = (data.tokens_stop.apply(pos_lambda))\n",
    "data.head()"
   ]
  },
  {
   "cell_type": "markdown",
   "id": "edbe60ca",
   "metadata": {},
   "source": [
    "## Stemming"
   ]
  },
  {
   "cell_type": "code",
   "execution_count": 21,
   "id": "33bbca86",
   "metadata": {
    "ExecuteTime": {
     "end_time": "2022-01-17T02:43:09.672419Z",
     "start_time": "2022-01-17T02:42:51.703810Z"
    }
   },
   "outputs": [
    {
     "data": {
      "text/html": [
       "<div>\n",
       "<style scoped>\n",
       "    .dataframe tbody tr th:only-of-type {\n",
       "        vertical-align: middle;\n",
       "    }\n",
       "\n",
       "    .dataframe tbody tr th {\n",
       "        vertical-align: top;\n",
       "    }\n",
       "\n",
       "    .dataframe thead th {\n",
       "        text-align: right;\n",
       "    }\n",
       "</style>\n",
       "<table border=\"1\" class=\"dataframe\">\n",
       "  <thead>\n",
       "    <tr style=\"text-align: right;\">\n",
       "      <th></th>\n",
       "      <th>OriginalTweet</th>\n",
       "      <th>Sentiment</th>\n",
       "      <th>ModifyTweet</th>\n",
       "      <th>ModifyTweet_2</th>\n",
       "      <th>tokens</th>\n",
       "      <th>tokens_stop</th>\n",
       "      <th>tokens_pos</th>\n",
       "      <th>tokens_stem</th>\n",
       "    </tr>\n",
       "  </thead>\n",
       "  <tbody>\n",
       "    <tr>\n",
       "      <th>0</th>\n",
       "      <td>@MeNyrbie @Phil_Gahan @Chrisitv https://t.co/i...</td>\n",
       "      <td>Neutral</td>\n",
       "      <td>and   and</td>\n",
       "      <td>and and</td>\n",
       "      <td>[and, and]</td>\n",
       "      <td>[]</td>\n",
       "      <td>[]</td>\n",
       "      <td>[]</td>\n",
       "    </tr>\n",
       "    <tr>\n",
       "      <th>1</th>\n",
       "      <td>advice Talk to your neighbours family to excha...</td>\n",
       "      <td>Positive</td>\n",
       "      <td>advice talk to your neighbours family to excha...</td>\n",
       "      <td>advice talk to your neighbours family to excha...</td>\n",
       "      <td>[advice, talk, to, your, neighbours, family, t...</td>\n",
       "      <td>[advice, talk, neighbours, family, exchange, p...</td>\n",
       "      <td>[(advice, NN), (talk, NN), (neighbours, IN), (...</td>\n",
       "      <td>[advic, talk, neighbour, famili, exchang, phon...</td>\n",
       "    </tr>\n",
       "    <tr>\n",
       "      <th>2</th>\n",
       "      <td>Coronavirus Australia: Woolworths to give elde...</td>\n",
       "      <td>Positive</td>\n",
       "      <td>coronavirus australia woolworths to give elder...</td>\n",
       "      <td>coronavirus australia woolworths to give elder...</td>\n",
       "      <td>[coronavirus, australia, woolworths, to, give,...</td>\n",
       "      <td>[coronavirus, australia, woolworths, give, eld...</td>\n",
       "      <td>[(coronavirus, NN), (australia, NNS), (woolwor...</td>\n",
       "      <td>[coronavirus, australia, woolworth, give, elde...</td>\n",
       "    </tr>\n",
       "    <tr>\n",
       "      <th>3</th>\n",
       "      <td>My food stock is not the only one which is emp...</td>\n",
       "      <td>Positive</td>\n",
       "      <td>my food stock is not the only one which is emp...</td>\n",
       "      <td>my food stock is not the only one which is emp...</td>\n",
       "      <td>[my, food, stock, is, not, the, only, one, whi...</td>\n",
       "      <td>[food, stock, one, emptyplease, dont, panic, e...</td>\n",
       "      <td>[(food, NN), (stock, NN), (one, CD), (emptyple...</td>\n",
       "      <td>[food, stock, one, emptypleas, dont, panic, en...</td>\n",
       "    </tr>\n",
       "    <tr>\n",
       "      <th>4</th>\n",
       "      <td>Me, ready to go at supermarket during the #COV...</td>\n",
       "      <td>Extremely Negative</td>\n",
       "      <td>me ready to go at supermarket during the  outb...</td>\n",
       "      <td>me ready to go at supermarket during the outbr...</td>\n",
       "      <td>[me, ready, to, go, at, supermarket, during, t...</td>\n",
       "      <td>[ready, go, supermarket, outbreaknot, im, para...</td>\n",
       "      <td>[(ready, JJ), (go, VBP), (supermarket, JJ), (o...</td>\n",
       "      <td>[readi, go, supermarket, outbreaknot, im, para...</td>\n",
       "    </tr>\n",
       "  </tbody>\n",
       "</table>\n",
       "</div>"
      ],
      "text/plain": [
       "                                       OriginalTweet           Sentiment  \\\n",
       "0  @MeNyrbie @Phil_Gahan @Chrisitv https://t.co/i...             Neutral   \n",
       "1  advice Talk to your neighbours family to excha...            Positive   \n",
       "2  Coronavirus Australia: Woolworths to give elde...            Positive   \n",
       "3  My food stock is not the only one which is emp...            Positive   \n",
       "4  Me, ready to go at supermarket during the #COV...  Extremely Negative   \n",
       "\n",
       "                                         ModifyTweet  \\\n",
       "0                                        and   and     \n",
       "1  advice talk to your neighbours family to excha...   \n",
       "2  coronavirus australia woolworths to give elder...   \n",
       "3  my food stock is not the only one which is emp...   \n",
       "4  me ready to go at supermarket during the  outb...   \n",
       "\n",
       "                                       ModifyTweet_2  \\\n",
       "0                                            and and   \n",
       "1  advice talk to your neighbours family to excha...   \n",
       "2  coronavirus australia woolworths to give elder...   \n",
       "3  my food stock is not the only one which is emp...   \n",
       "4  me ready to go at supermarket during the outbr...   \n",
       "\n",
       "                                              tokens  \\\n",
       "0                                         [and, and]   \n",
       "1  [advice, talk, to, your, neighbours, family, t...   \n",
       "2  [coronavirus, australia, woolworths, to, give,...   \n",
       "3  [my, food, stock, is, not, the, only, one, whi...   \n",
       "4  [me, ready, to, go, at, supermarket, during, t...   \n",
       "\n",
       "                                         tokens_stop  \\\n",
       "0                                                 []   \n",
       "1  [advice, talk, neighbours, family, exchange, p...   \n",
       "2  [coronavirus, australia, woolworths, give, eld...   \n",
       "3  [food, stock, one, emptyplease, dont, panic, e...   \n",
       "4  [ready, go, supermarket, outbreaknot, im, para...   \n",
       "\n",
       "                                          tokens_pos  \\\n",
       "0                                                 []   \n",
       "1  [(advice, NN), (talk, NN), (neighbours, IN), (...   \n",
       "2  [(coronavirus, NN), (australia, NNS), (woolwor...   \n",
       "3  [(food, NN), (stock, NN), (one, CD), (emptyple...   \n",
       "4  [(ready, JJ), (go, VBP), (supermarket, JJ), (o...   \n",
       "\n",
       "                                         tokens_stem  \n",
       "0                                                 []  \n",
       "1  [advic, talk, neighbour, famili, exchang, phon...  \n",
       "2  [coronavirus, australia, woolworth, give, elde...  \n",
       "3  [food, stock, one, emptypleas, dont, panic, en...  \n",
       "4  [readi, go, supermarket, outbreaknot, im, para...  "
      ]
     },
     "execution_count": 21,
     "metadata": {},
     "output_type": "execute_result"
    }
   ],
   "source": [
    "# Executar stemming, que remove terminações de palavras alternativas sem o conhecimento do contexto\n",
    "from nltk.stem import SnowballStemmer\n",
    "\n",
    "stemmer = SnowballStemmer('english')\n",
    "stem_lambda = lambda x: [stemmer.stem(y) for y in x]\n",
    "\n",
    "data['tokens_stem'] = data.tokens_stop.apply(stem_lambda)\n",
    "data.head()"
   ]
  },
  {
   "cell_type": "markdown",
   "id": "54df0b55",
   "metadata": {},
   "source": [
    "## Lemetização"
   ]
  },
  {
   "cell_type": "code",
   "execution_count": 22,
   "id": "fb5d1708",
   "metadata": {
    "ExecuteTime": {
     "end_time": "2022-01-17T02:43:24.058451Z",
     "start_time": "2022-01-17T02:43:09.675534Z"
    }
   },
   "outputs": [
    {
     "name": "stderr",
     "output_type": "stream",
     "text": [
      "[nltk_data] Downloading package averaged_perceptron_tagger to\n",
      "[nltk_data]     /Users/LeonardoLins/nltk_data...\n",
      "[nltk_data]   Package averaged_perceptron_tagger is already up-to-\n",
      "[nltk_data]       date!\n",
      "[nltk_data] Downloading collection 'all'\n",
      "[nltk_data]    | \n",
      "[nltk_data]    | Downloading package abc to\n",
      "[nltk_data]    |     /Users/LeonardoLins/nltk_data...\n",
      "[nltk_data]    |   Package abc is already up-to-date!\n",
      "[nltk_data]    | Downloading package alpino to\n",
      "[nltk_data]    |     /Users/LeonardoLins/nltk_data...\n",
      "[nltk_data]    |   Package alpino is already up-to-date!\n",
      "[nltk_data]    | Downloading package averaged_perceptron_tagger to\n",
      "[nltk_data]    |     /Users/LeonardoLins/nltk_data...\n",
      "[nltk_data]    |   Package averaged_perceptron_tagger is already up-\n",
      "[nltk_data]    |       to-date!\n",
      "[nltk_data]    | Downloading package averaged_perceptron_tagger_ru to\n",
      "[nltk_data]    |     /Users/LeonardoLins/nltk_data...\n",
      "[nltk_data]    |   Package averaged_perceptron_tagger_ru is already\n",
      "[nltk_data]    |       up-to-date!\n",
      "[nltk_data]    | Downloading package basque_grammars to\n",
      "[nltk_data]    |     /Users/LeonardoLins/nltk_data...\n",
      "[nltk_data]    |   Package basque_grammars is already up-to-date!\n",
      "[nltk_data]    | Downloading package biocreative_ppi to\n",
      "[nltk_data]    |     /Users/LeonardoLins/nltk_data...\n",
      "[nltk_data]    |   Package biocreative_ppi is already up-to-date!\n",
      "[nltk_data]    | Downloading package bllip_wsj_no_aux to\n",
      "[nltk_data]    |     /Users/LeonardoLins/nltk_data...\n",
      "[nltk_data]    |   Package bllip_wsj_no_aux is already up-to-date!\n",
      "[nltk_data]    | Downloading package book_grammars to\n",
      "[nltk_data]    |     /Users/LeonardoLins/nltk_data...\n",
      "[nltk_data]    |   Package book_grammars is already up-to-date!\n",
      "[nltk_data]    | Downloading package brown to\n",
      "[nltk_data]    |     /Users/LeonardoLins/nltk_data...\n",
      "[nltk_data]    |   Package brown is already up-to-date!\n",
      "[nltk_data]    | Downloading package brown_tei to\n",
      "[nltk_data]    |     /Users/LeonardoLins/nltk_data...\n",
      "[nltk_data]    |   Package brown_tei is already up-to-date!\n",
      "[nltk_data]    | Downloading package cess_cat to\n",
      "[nltk_data]    |     /Users/LeonardoLins/nltk_data...\n",
      "[nltk_data]    |   Package cess_cat is already up-to-date!\n",
      "[nltk_data]    | Downloading package cess_esp to\n",
      "[nltk_data]    |     /Users/LeonardoLins/nltk_data...\n",
      "[nltk_data]    |   Package cess_esp is already up-to-date!\n",
      "[nltk_data]    | Downloading package chat80 to\n",
      "[nltk_data]    |     /Users/LeonardoLins/nltk_data...\n",
      "[nltk_data]    |   Package chat80 is already up-to-date!\n",
      "[nltk_data]    | Downloading package city_database to\n",
      "[nltk_data]    |     /Users/LeonardoLins/nltk_data...\n",
      "[nltk_data]    |   Package city_database is already up-to-date!\n",
      "[nltk_data]    | Downloading package cmudict to\n",
      "[nltk_data]    |     /Users/LeonardoLins/nltk_data...\n",
      "[nltk_data]    |   Package cmudict is already up-to-date!\n",
      "[nltk_data]    | Downloading package comparative_sentences to\n",
      "[nltk_data]    |     /Users/LeonardoLins/nltk_data...\n",
      "[nltk_data]    |   Package comparative_sentences is already up-to-\n",
      "[nltk_data]    |       date!\n",
      "[nltk_data]    | Downloading package comtrans to\n",
      "[nltk_data]    |     /Users/LeonardoLins/nltk_data...\n",
      "[nltk_data]    |   Package comtrans is already up-to-date!\n",
      "[nltk_data]    | Downloading package conll2000 to\n",
      "[nltk_data]    |     /Users/LeonardoLins/nltk_data...\n",
      "[nltk_data]    |   Package conll2000 is already up-to-date!\n",
      "[nltk_data]    | Downloading package conll2002 to\n",
      "[nltk_data]    |     /Users/LeonardoLins/nltk_data...\n",
      "[nltk_data]    |   Package conll2002 is already up-to-date!\n",
      "[nltk_data]    | Downloading package conll2007 to\n",
      "[nltk_data]    |     /Users/LeonardoLins/nltk_data...\n",
      "[nltk_data]    |   Package conll2007 is already up-to-date!\n",
      "[nltk_data]    | Downloading package crubadan to\n",
      "[nltk_data]    |     /Users/LeonardoLins/nltk_data...\n",
      "[nltk_data]    |   Package crubadan is already up-to-date!\n",
      "[nltk_data]    | Downloading package dependency_treebank to\n",
      "[nltk_data]    |     /Users/LeonardoLins/nltk_data...\n",
      "[nltk_data]    |   Package dependency_treebank is already up-to-date!\n",
      "[nltk_data]    | Downloading package dolch to\n",
      "[nltk_data]    |     /Users/LeonardoLins/nltk_data...\n",
      "[nltk_data]    |   Package dolch is already up-to-date!\n",
      "[nltk_data]    | Downloading package europarl_raw to\n",
      "[nltk_data]    |     /Users/LeonardoLins/nltk_data...\n",
      "[nltk_data]    |   Package europarl_raw is already up-to-date!\n",
      "[nltk_data]    | Downloading package floresta to\n",
      "[nltk_data]    |     /Users/LeonardoLins/nltk_data...\n",
      "[nltk_data]    |   Package floresta is already up-to-date!\n",
      "[nltk_data]    | Downloading package framenet_v15 to\n",
      "[nltk_data]    |     /Users/LeonardoLins/nltk_data...\n",
      "[nltk_data]    |   Package framenet_v15 is already up-to-date!\n",
      "[nltk_data]    | Downloading package framenet_v17 to\n",
      "[nltk_data]    |     /Users/LeonardoLins/nltk_data...\n",
      "[nltk_data]    |   Package framenet_v17 is already up-to-date!\n",
      "[nltk_data]    | Downloading package gazetteers to\n",
      "[nltk_data]    |     /Users/LeonardoLins/nltk_data...\n",
      "[nltk_data]    |   Package gazetteers is already up-to-date!\n",
      "[nltk_data]    | Downloading package genesis to\n",
      "[nltk_data]    |     /Users/LeonardoLins/nltk_data...\n",
      "[nltk_data]    |   Package genesis is already up-to-date!\n",
      "[nltk_data]    | Downloading package gutenberg to\n",
      "[nltk_data]    |     /Users/LeonardoLins/nltk_data...\n",
      "[nltk_data]    |   Package gutenberg is already up-to-date!\n",
      "[nltk_data]    | Downloading package ieer to\n",
      "[nltk_data]    |     /Users/LeonardoLins/nltk_data...\n",
      "[nltk_data]    |   Package ieer is already up-to-date!\n",
      "[nltk_data]    | Downloading package inaugural to\n",
      "[nltk_data]    |     /Users/LeonardoLins/nltk_data...\n",
      "[nltk_data]    |   Package inaugural is already up-to-date!\n",
      "[nltk_data]    | Downloading package indian to\n",
      "[nltk_data]    |     /Users/LeonardoLins/nltk_data...\n",
      "[nltk_data]    |   Package indian is already up-to-date!\n",
      "[nltk_data]    | Downloading package jeita to\n",
      "[nltk_data]    |     /Users/LeonardoLins/nltk_data...\n",
      "[nltk_data]    |   Package jeita is already up-to-date!\n",
      "[nltk_data]    | Downloading package kimmo to\n",
      "[nltk_data]    |     /Users/LeonardoLins/nltk_data...\n",
      "[nltk_data]    |   Package kimmo is already up-to-date!\n",
      "[nltk_data]    | Downloading package knbc to\n",
      "[nltk_data]    |     /Users/LeonardoLins/nltk_data...\n",
      "[nltk_data]    |   Package knbc is already up-to-date!\n",
      "[nltk_data]    | Downloading package large_grammars to\n",
      "[nltk_data]    |     /Users/LeonardoLins/nltk_data...\n",
      "[nltk_data]    |   Package large_grammars is already up-to-date!\n",
      "[nltk_data]    | Downloading package lin_thesaurus to\n",
      "[nltk_data]    |     /Users/LeonardoLins/nltk_data...\n",
      "[nltk_data]    |   Package lin_thesaurus is already up-to-date!\n",
      "[nltk_data]    | Downloading package mac_morpho to\n",
      "[nltk_data]    |     /Users/LeonardoLins/nltk_data...\n",
      "[nltk_data]    |   Package mac_morpho is already up-to-date!\n",
      "[nltk_data]    | Downloading package machado to\n",
      "[nltk_data]    |     /Users/LeonardoLins/nltk_data...\n",
      "[nltk_data]    |   Package machado is already up-to-date!\n",
      "[nltk_data]    | Downloading package masc_tagged to\n",
      "[nltk_data]    |     /Users/LeonardoLins/nltk_data...\n",
      "[nltk_data]    |   Package masc_tagged is already up-to-date!\n",
      "[nltk_data]    | Downloading package maxent_ne_chunker to\n",
      "[nltk_data]    |     /Users/LeonardoLins/nltk_data...\n",
      "[nltk_data]    |   Package maxent_ne_chunker is already up-to-date!\n",
      "[nltk_data]    | Downloading package maxent_treebank_pos_tagger to\n",
      "[nltk_data]    |     /Users/LeonardoLins/nltk_data...\n",
      "[nltk_data]    |   Package maxent_treebank_pos_tagger is already up-\n",
      "[nltk_data]    |       to-date!\n",
      "[nltk_data]    | Downloading package moses_sample to\n",
      "[nltk_data]    |     /Users/LeonardoLins/nltk_data...\n",
      "[nltk_data]    |   Package moses_sample is already up-to-date!\n",
      "[nltk_data]    | Downloading package movie_reviews to\n",
      "[nltk_data]    |     /Users/LeonardoLins/nltk_data...\n",
      "[nltk_data]    |   Package movie_reviews is already up-to-date!\n",
      "[nltk_data]    | Downloading package mte_teip5 to\n",
      "[nltk_data]    |     /Users/LeonardoLins/nltk_data...\n",
      "[nltk_data]    |   Package mte_teip5 is already up-to-date!\n",
      "[nltk_data]    | Downloading package mwa_ppdb to\n",
      "[nltk_data]    |     /Users/LeonardoLins/nltk_data...\n",
      "[nltk_data]    |   Package mwa_ppdb is already up-to-date!\n",
      "[nltk_data]    | Downloading package names to\n",
      "[nltk_data]    |     /Users/LeonardoLins/nltk_data...\n",
      "[nltk_data]    |   Package names is already up-to-date!\n",
      "[nltk_data]    | Downloading package nombank.1.0 to\n",
      "[nltk_data]    |     /Users/LeonardoLins/nltk_data...\n",
      "[nltk_data]    |   Package nombank.1.0 is already up-to-date!\n",
      "[nltk_data]    | Downloading package nonbreaking_prefixes to\n",
      "[nltk_data]    |     /Users/LeonardoLins/nltk_data...\n",
      "[nltk_data]    |   Package nonbreaking_prefixes is already up-to-date!\n",
      "[nltk_data]    | Downloading package nps_chat to\n",
      "[nltk_data]    |     /Users/LeonardoLins/nltk_data...\n",
      "[nltk_data]    |   Package nps_chat is already up-to-date!\n",
      "[nltk_data]    | Downloading package omw to\n",
      "[nltk_data]    |     /Users/LeonardoLins/nltk_data...\n",
      "[nltk_data]    |   Package omw is already up-to-date!\n",
      "[nltk_data]    | Downloading package omw-1.4 to\n",
      "[nltk_data]    |     /Users/LeonardoLins/nltk_data...\n"
     ]
    },
    {
     "name": "stderr",
     "output_type": "stream",
     "text": [
      "[nltk_data]    |   Package omw-1.4 is already up-to-date!\n",
      "[nltk_data]    | Downloading package opinion_lexicon to\n",
      "[nltk_data]    |     /Users/LeonardoLins/nltk_data...\n",
      "[nltk_data]    |   Package opinion_lexicon is already up-to-date!\n",
      "[nltk_data]    | Downloading package panlex_swadesh to\n",
      "[nltk_data]    |     /Users/LeonardoLins/nltk_data...\n",
      "[nltk_data]    |   Package panlex_swadesh is already up-to-date!\n",
      "[nltk_data]    | Downloading package paradigms to\n",
      "[nltk_data]    |     /Users/LeonardoLins/nltk_data...\n",
      "[nltk_data]    |   Package paradigms is already up-to-date!\n",
      "[nltk_data]    | Downloading package pe08 to\n",
      "[nltk_data]    |     /Users/LeonardoLins/nltk_data...\n",
      "[nltk_data]    |   Package pe08 is already up-to-date!\n",
      "[nltk_data]    | Downloading package perluniprops to\n",
      "[nltk_data]    |     /Users/LeonardoLins/nltk_data...\n",
      "[nltk_data]    |   Package perluniprops is already up-to-date!\n",
      "[nltk_data]    | Downloading package pil to\n",
      "[nltk_data]    |     /Users/LeonardoLins/nltk_data...\n",
      "[nltk_data]    |   Package pil is already up-to-date!\n",
      "[nltk_data]    | Downloading package pl196x to\n",
      "[nltk_data]    |     /Users/LeonardoLins/nltk_data...\n",
      "[nltk_data]    |   Package pl196x is already up-to-date!\n",
      "[nltk_data]    | Downloading package porter_test to\n",
      "[nltk_data]    |     /Users/LeonardoLins/nltk_data...\n",
      "[nltk_data]    |   Package porter_test is already up-to-date!\n",
      "[nltk_data]    | Downloading package ppattach to\n",
      "[nltk_data]    |     /Users/LeonardoLins/nltk_data...\n",
      "[nltk_data]    |   Package ppattach is already up-to-date!\n",
      "[nltk_data]    | Downloading package problem_reports to\n",
      "[nltk_data]    |     /Users/LeonardoLins/nltk_data...\n",
      "[nltk_data]    |   Package problem_reports is already up-to-date!\n",
      "[nltk_data]    | Downloading package product_reviews_1 to\n",
      "[nltk_data]    |     /Users/LeonardoLins/nltk_data...\n",
      "[nltk_data]    |   Package product_reviews_1 is already up-to-date!\n",
      "[nltk_data]    | Downloading package product_reviews_2 to\n",
      "[nltk_data]    |     /Users/LeonardoLins/nltk_data...\n",
      "[nltk_data]    |   Package product_reviews_2 is already up-to-date!\n",
      "[nltk_data]    | Downloading package propbank to\n",
      "[nltk_data]    |     /Users/LeonardoLins/nltk_data...\n",
      "[nltk_data]    |   Package propbank is already up-to-date!\n",
      "[nltk_data]    | Downloading package pros_cons to\n",
      "[nltk_data]    |     /Users/LeonardoLins/nltk_data...\n",
      "[nltk_data]    |   Package pros_cons is already up-to-date!\n",
      "[nltk_data]    | Downloading package ptb to\n",
      "[nltk_data]    |     /Users/LeonardoLins/nltk_data...\n",
      "[nltk_data]    |   Package ptb is already up-to-date!\n",
      "[nltk_data]    | Downloading package punkt to\n",
      "[nltk_data]    |     /Users/LeonardoLins/nltk_data...\n",
      "[nltk_data]    |   Package punkt is already up-to-date!\n",
      "[nltk_data]    | Downloading package qc to\n",
      "[nltk_data]    |     /Users/LeonardoLins/nltk_data...\n",
      "[nltk_data]    |   Package qc is already up-to-date!\n",
      "[nltk_data]    | Downloading package reuters to\n",
      "[nltk_data]    |     /Users/LeonardoLins/nltk_data...\n",
      "[nltk_data]    |   Package reuters is already up-to-date!\n",
      "[nltk_data]    | Downloading package rslp to\n",
      "[nltk_data]    |     /Users/LeonardoLins/nltk_data...\n",
      "[nltk_data]    |   Package rslp is already up-to-date!\n",
      "[nltk_data]    | Downloading package rte to\n",
      "[nltk_data]    |     /Users/LeonardoLins/nltk_data...\n",
      "[nltk_data]    |   Package rte is already up-to-date!\n",
      "[nltk_data]    | Downloading package sample_grammars to\n",
      "[nltk_data]    |     /Users/LeonardoLins/nltk_data...\n",
      "[nltk_data]    |   Package sample_grammars is already up-to-date!\n",
      "[nltk_data]    | Downloading package semcor to\n",
      "[nltk_data]    |     /Users/LeonardoLins/nltk_data...\n",
      "[nltk_data]    |   Package semcor is already up-to-date!\n",
      "[nltk_data]    | Downloading package senseval to\n",
      "[nltk_data]    |     /Users/LeonardoLins/nltk_data...\n",
      "[nltk_data]    |   Package senseval is already up-to-date!\n",
      "[nltk_data]    | Downloading package sentence_polarity to\n",
      "[nltk_data]    |     /Users/LeonardoLins/nltk_data...\n",
      "[nltk_data]    |   Package sentence_polarity is already up-to-date!\n",
      "[nltk_data]    | Downloading package sentiwordnet to\n",
      "[nltk_data]    |     /Users/LeonardoLins/nltk_data...\n",
      "[nltk_data]    |   Package sentiwordnet is already up-to-date!\n",
      "[nltk_data]    | Downloading package shakespeare to\n",
      "[nltk_data]    |     /Users/LeonardoLins/nltk_data...\n",
      "[nltk_data]    |   Package shakespeare is already up-to-date!\n",
      "[nltk_data]    | Downloading package sinica_treebank to\n",
      "[nltk_data]    |     /Users/LeonardoLins/nltk_data...\n",
      "[nltk_data]    |   Package sinica_treebank is already up-to-date!\n",
      "[nltk_data]    | Downloading package smultron to\n",
      "[nltk_data]    |     /Users/LeonardoLins/nltk_data...\n",
      "[nltk_data]    |   Package smultron is already up-to-date!\n",
      "[nltk_data]    | Downloading package snowball_data to\n",
      "[nltk_data]    |     /Users/LeonardoLins/nltk_data...\n",
      "[nltk_data]    |   Package snowball_data is already up-to-date!\n",
      "[nltk_data]    | Downloading package spanish_grammars to\n",
      "[nltk_data]    |     /Users/LeonardoLins/nltk_data...\n",
      "[nltk_data]    |   Package spanish_grammars is already up-to-date!\n",
      "[nltk_data]    | Downloading package state_union to\n",
      "[nltk_data]    |     /Users/LeonardoLins/nltk_data...\n",
      "[nltk_data]    |   Package state_union is already up-to-date!\n",
      "[nltk_data]    | Downloading package stopwords to\n",
      "[nltk_data]    |     /Users/LeonardoLins/nltk_data...\n",
      "[nltk_data]    |   Package stopwords is already up-to-date!\n",
      "[nltk_data]    | Downloading package subjectivity to\n",
      "[nltk_data]    |     /Users/LeonardoLins/nltk_data...\n",
      "[nltk_data]    |   Package subjectivity is already up-to-date!\n",
      "[nltk_data]    | Downloading package swadesh to\n",
      "[nltk_data]    |     /Users/LeonardoLins/nltk_data...\n",
      "[nltk_data]    |   Package swadesh is already up-to-date!\n",
      "[nltk_data]    | Downloading package switchboard to\n",
      "[nltk_data]    |     /Users/LeonardoLins/nltk_data...\n",
      "[nltk_data]    |   Package switchboard is already up-to-date!\n",
      "[nltk_data]    | Downloading package tagsets to\n",
      "[nltk_data]    |     /Users/LeonardoLins/nltk_data...\n",
      "[nltk_data]    |   Package tagsets is already up-to-date!\n",
      "[nltk_data]    | Downloading package timit to\n",
      "[nltk_data]    |     /Users/LeonardoLins/nltk_data...\n",
      "[nltk_data]    |   Package timit is already up-to-date!\n",
      "[nltk_data]    | Downloading package toolbox to\n",
      "[nltk_data]    |     /Users/LeonardoLins/nltk_data...\n",
      "[nltk_data]    |   Package toolbox is already up-to-date!\n",
      "[nltk_data]    | Downloading package treebank to\n",
      "[nltk_data]    |     /Users/LeonardoLins/nltk_data...\n",
      "[nltk_data]    |   Package treebank is already up-to-date!\n",
      "[nltk_data]    | Downloading package twitter_samples to\n",
      "[nltk_data]    |     /Users/LeonardoLins/nltk_data...\n",
      "[nltk_data]    |   Package twitter_samples is already up-to-date!\n",
      "[nltk_data]    | Downloading package udhr to\n",
      "[nltk_data]    |     /Users/LeonardoLins/nltk_data...\n",
      "[nltk_data]    |   Package udhr is already up-to-date!\n",
      "[nltk_data]    | Downloading package udhr2 to\n",
      "[nltk_data]    |     /Users/LeonardoLins/nltk_data...\n",
      "[nltk_data]    |   Package udhr2 is already up-to-date!\n",
      "[nltk_data]    | Downloading package unicode_samples to\n",
      "[nltk_data]    |     /Users/LeonardoLins/nltk_data...\n",
      "[nltk_data]    |   Package unicode_samples is already up-to-date!\n",
      "[nltk_data]    | Downloading package universal_tagset to\n",
      "[nltk_data]    |     /Users/LeonardoLins/nltk_data...\n",
      "[nltk_data]    |   Package universal_tagset is already up-to-date!\n",
      "[nltk_data]    | Downloading package universal_treebanks_v20 to\n",
      "[nltk_data]    |     /Users/LeonardoLins/nltk_data...\n",
      "[nltk_data]    |   Package universal_treebanks_v20 is already up-to-\n",
      "[nltk_data]    |       date!\n",
      "[nltk_data]    | Downloading package vader_lexicon to\n",
      "[nltk_data]    |     /Users/LeonardoLins/nltk_data...\n",
      "[nltk_data]    |   Package vader_lexicon is already up-to-date!\n",
      "[nltk_data]    | Downloading package verbnet to\n",
      "[nltk_data]    |     /Users/LeonardoLins/nltk_data...\n",
      "[nltk_data]    |   Package verbnet is already up-to-date!\n",
      "[nltk_data]    | Downloading package verbnet3 to\n",
      "[nltk_data]    |     /Users/LeonardoLins/nltk_data...\n",
      "[nltk_data]    |   Package verbnet3 is already up-to-date!\n",
      "[nltk_data]    | Downloading package webtext to\n",
      "[nltk_data]    |     /Users/LeonardoLins/nltk_data...\n",
      "[nltk_data]    |   Package webtext is already up-to-date!\n",
      "[nltk_data]    | Downloading package wmt15_eval to\n",
      "[nltk_data]    |     /Users/LeonardoLins/nltk_data...\n",
      "[nltk_data]    |   Package wmt15_eval is already up-to-date!\n",
      "[nltk_data]    | Downloading package word2vec_sample to\n",
      "[nltk_data]    |     /Users/LeonardoLins/nltk_data...\n"
     ]
    },
    {
     "name": "stderr",
     "output_type": "stream",
     "text": [
      "[nltk_data]    |   Package word2vec_sample is already up-to-date!\n",
      "[nltk_data]    | Downloading package wordnet to\n",
      "[nltk_data]    |     /Users/LeonardoLins/nltk_data...\n",
      "[nltk_data]    |   Package wordnet is already up-to-date!\n",
      "[nltk_data]    | Downloading package wordnet2021 to\n",
      "[nltk_data]    |     /Users/LeonardoLins/nltk_data...\n",
      "[nltk_data]    |   Package wordnet2021 is already up-to-date!\n",
      "[nltk_data]    | Downloading package wordnet31 to\n",
      "[nltk_data]    |     /Users/LeonardoLins/nltk_data...\n",
      "[nltk_data]    |   Package wordnet31 is already up-to-date!\n",
      "[nltk_data]    | Downloading package wordnet_ic to\n",
      "[nltk_data]    |     /Users/LeonardoLins/nltk_data...\n",
      "[nltk_data]    |   Package wordnet_ic is already up-to-date!\n",
      "[nltk_data]    | Downloading package words to\n",
      "[nltk_data]    |     /Users/LeonardoLins/nltk_data...\n",
      "[nltk_data]    |   Package words is already up-to-date!\n",
      "[nltk_data]    | Downloading package ycoe to\n",
      "[nltk_data]    |     /Users/LeonardoLins/nltk_data...\n",
      "[nltk_data]    |   Package ycoe is already up-to-date!\n",
      "[nltk_data]    | \n",
      "[nltk_data]  Done downloading collection all\n"
     ]
    },
    {
     "data": {
      "text/html": [
       "<div>\n",
       "<style scoped>\n",
       "    .dataframe tbody tr th:only-of-type {\n",
       "        vertical-align: middle;\n",
       "    }\n",
       "\n",
       "    .dataframe tbody tr th {\n",
       "        vertical-align: top;\n",
       "    }\n",
       "\n",
       "    .dataframe thead th {\n",
       "        text-align: right;\n",
       "    }\n",
       "</style>\n",
       "<table border=\"1\" class=\"dataframe\">\n",
       "  <thead>\n",
       "    <tr style=\"text-align: right;\">\n",
       "      <th></th>\n",
       "      <th>OriginalTweet</th>\n",
       "      <th>Sentiment</th>\n",
       "      <th>ModifyTweet</th>\n",
       "      <th>ModifyTweet_2</th>\n",
       "      <th>tokens</th>\n",
       "      <th>tokens_stop</th>\n",
       "      <th>tokens_pos</th>\n",
       "      <th>tokens_stem</th>\n",
       "      <th>tokens_lemma</th>\n",
       "    </tr>\n",
       "  </thead>\n",
       "  <tbody>\n",
       "    <tr>\n",
       "      <th>0</th>\n",
       "      <td>@MeNyrbie @Phil_Gahan @Chrisitv https://t.co/i...</td>\n",
       "      <td>Neutral</td>\n",
       "      <td>and   and</td>\n",
       "      <td>and and</td>\n",
       "      <td>[and, and]</td>\n",
       "      <td>[]</td>\n",
       "      <td>[]</td>\n",
       "      <td>[]</td>\n",
       "      <td>[]</td>\n",
       "    </tr>\n",
       "    <tr>\n",
       "      <th>1</th>\n",
       "      <td>advice Talk to your neighbours family to excha...</td>\n",
       "      <td>Positive</td>\n",
       "      <td>advice talk to your neighbours family to excha...</td>\n",
       "      <td>advice talk to your neighbours family to excha...</td>\n",
       "      <td>[advice, talk, to, your, neighbours, family, t...</td>\n",
       "      <td>[advice, talk, neighbours, family, exchange, p...</td>\n",
       "      <td>[(advice, NN), (talk, NN), (neighbours, IN), (...</td>\n",
       "      <td>[advic, talk, neighbour, famili, exchang, phon...</td>\n",
       "      <td>[advice, talk, neighbour, family, exchange, ph...</td>\n",
       "    </tr>\n",
       "    <tr>\n",
       "      <th>2</th>\n",
       "      <td>Coronavirus Australia: Woolworths to give elde...</td>\n",
       "      <td>Positive</td>\n",
       "      <td>coronavirus australia woolworths to give elder...</td>\n",
       "      <td>coronavirus australia woolworths to give elder...</td>\n",
       "      <td>[coronavirus, australia, woolworths, to, give,...</td>\n",
       "      <td>[coronavirus, australia, woolworths, give, eld...</td>\n",
       "      <td>[(coronavirus, NN), (australia, NNS), (woolwor...</td>\n",
       "      <td>[coronavirus, australia, woolworth, give, elde...</td>\n",
       "      <td>[coronavirus, australia, woolworths, give, eld...</td>\n",
       "    </tr>\n",
       "    <tr>\n",
       "      <th>3</th>\n",
       "      <td>My food stock is not the only one which is emp...</td>\n",
       "      <td>Positive</td>\n",
       "      <td>my food stock is not the only one which is emp...</td>\n",
       "      <td>my food stock is not the only one which is emp...</td>\n",
       "      <td>[my, food, stock, is, not, the, only, one, whi...</td>\n",
       "      <td>[food, stock, one, emptyplease, dont, panic, e...</td>\n",
       "      <td>[(food, NN), (stock, NN), (one, CD), (emptyple...</td>\n",
       "      <td>[food, stock, one, emptypleas, dont, panic, en...</td>\n",
       "      <td>[food, stock, one, emptyplease, dont, panic, e...</td>\n",
       "    </tr>\n",
       "    <tr>\n",
       "      <th>4</th>\n",
       "      <td>Me, ready to go at supermarket during the #COV...</td>\n",
       "      <td>Extremely Negative</td>\n",
       "      <td>me ready to go at supermarket during the  outb...</td>\n",
       "      <td>me ready to go at supermarket during the outbr...</td>\n",
       "      <td>[me, ready, to, go, at, supermarket, during, t...</td>\n",
       "      <td>[ready, go, supermarket, outbreaknot, im, para...</td>\n",
       "      <td>[(ready, JJ), (go, VBP), (supermarket, JJ), (o...</td>\n",
       "      <td>[readi, go, supermarket, outbreaknot, im, para...</td>\n",
       "      <td>[ready, go, supermarket, outbreaknot, im, para...</td>\n",
       "    </tr>\n",
       "  </tbody>\n",
       "</table>\n",
       "</div>"
      ],
      "text/plain": [
       "                                       OriginalTweet           Sentiment  \\\n",
       "0  @MeNyrbie @Phil_Gahan @Chrisitv https://t.co/i...             Neutral   \n",
       "1  advice Talk to your neighbours family to excha...            Positive   \n",
       "2  Coronavirus Australia: Woolworths to give elde...            Positive   \n",
       "3  My food stock is not the only one which is emp...            Positive   \n",
       "4  Me, ready to go at supermarket during the #COV...  Extremely Negative   \n",
       "\n",
       "                                         ModifyTweet  \\\n",
       "0                                        and   and     \n",
       "1  advice talk to your neighbours family to excha...   \n",
       "2  coronavirus australia woolworths to give elder...   \n",
       "3  my food stock is not the only one which is emp...   \n",
       "4  me ready to go at supermarket during the  outb...   \n",
       "\n",
       "                                       ModifyTweet_2  \\\n",
       "0                                            and and   \n",
       "1  advice talk to your neighbours family to excha...   \n",
       "2  coronavirus australia woolworths to give elder...   \n",
       "3  my food stock is not the only one which is emp...   \n",
       "4  me ready to go at supermarket during the outbr...   \n",
       "\n",
       "                                              tokens  \\\n",
       "0                                         [and, and]   \n",
       "1  [advice, talk, to, your, neighbours, family, t...   \n",
       "2  [coronavirus, australia, woolworths, to, give,...   \n",
       "3  [my, food, stock, is, not, the, only, one, whi...   \n",
       "4  [me, ready, to, go, at, supermarket, during, t...   \n",
       "\n",
       "                                         tokens_stop  \\\n",
       "0                                                 []   \n",
       "1  [advice, talk, neighbours, family, exchange, p...   \n",
       "2  [coronavirus, australia, woolworths, give, eld...   \n",
       "3  [food, stock, one, emptyplease, dont, panic, e...   \n",
       "4  [ready, go, supermarket, outbreaknot, im, para...   \n",
       "\n",
       "                                          tokens_pos  \\\n",
       "0                                                 []   \n",
       "1  [(advice, NN), (talk, NN), (neighbours, IN), (...   \n",
       "2  [(coronavirus, NN), (australia, NNS), (woolwor...   \n",
       "3  [(food, NN), (stock, NN), (one, CD), (emptyple...   \n",
       "4  [(ready, JJ), (go, VBP), (supermarket, JJ), (o...   \n",
       "\n",
       "                                         tokens_stem  \\\n",
       "0                                                 []   \n",
       "1  [advic, talk, neighbour, famili, exchang, phon...   \n",
       "2  [coronavirus, australia, woolworth, give, elde...   \n",
       "3  [food, stock, one, emptypleas, dont, panic, en...   \n",
       "4  [readi, go, supermarket, outbreaknot, im, para...   \n",
       "\n",
       "                                        tokens_lemma  \n",
       "0                                                 []  \n",
       "1  [advice, talk, neighbour, family, exchange, ph...  \n",
       "2  [coronavirus, australia, woolworths, give, eld...  \n",
       "3  [food, stock, one, emptyplease, dont, panic, e...  \n",
       "4  [ready, go, supermarket, outbreaknot, im, para...  "
      ]
     },
     "execution_count": 22,
     "metadata": {},
     "output_type": "execute_result"
    }
   ],
   "source": [
    "# Realizar lematização, que é uma forma mais inteligente de derivação e leva em consideração o contexto\n",
    "\n",
    "from nltk.corpus import wordnet\n",
    "from nltk.stem.wordnet import WordNetLemmatizer\n",
    "nltk.download('averaged_perceptron_tagger')\n",
    "nltk.download('all')\n",
    "\n",
    "#Convert the naming scheme to one of that is recognized by WordNet\n",
    "def get_wordnet_pos(treebank_tag):\n",
    "    if treebank_tag.startswith('J'):\n",
    "        return wordnet.ADJ\n",
    "    elif treebank_tag.startswith('V'):\n",
    "        return wordnet.VERB\n",
    "    elif treebank_tag.startswith('N'):\n",
    "        return wordnet.NOUN\n",
    "    elif treebank_tag.startswith('R'):\n",
    "        return wordnet.ADV\n",
    "    else:\n",
    "        return wordnet.NOUN\n",
    "\n",
    "lemmatizer = WordNetLemmatizer()\n",
    "lemmatizer_fun = lambda x: lemmatizer.lemmatize(*x)\n",
    "data['tokens_lemma'] = data.tokens_pos\\\n",
    "                        .apply(lambda x: [(y[0], get_wordnet_pos(y[1])) for y in x])\\\n",
    "                        .apply(lambda x: [lemmatizer_fun(y) for y in x])\n",
    "\n",
    "# Exibir as colunas transpostas\n",
    "data.head()"
   ]
  },
  {
   "cell_type": "code",
   "execution_count": 23,
   "id": "738edb85",
   "metadata": {
    "ExecuteTime": {
     "end_time": "2022-01-17T02:50:57.693661Z",
     "start_time": "2022-01-17T02:43:24.061346Z"
    }
   },
   "outputs": [
    {
     "data": {
      "text/plain": [
       "['advice',\n",
       " 'talk',\n",
       " 'neighbour',\n",
       " 'family',\n",
       " 'exchange',\n",
       " 'phone',\n",
       " 'number',\n",
       " 'create',\n",
       " 'contact',\n",
       " 'list']"
      ]
     },
     "execution_count": 23,
     "metadata": {},
     "output_type": "execute_result"
    }
   ],
   "source": [
    "# Vamos encontrar as palavras mais comuns depois de limpar os dados\n",
    "\n",
    "# Isso cria uma lista enorme combinando todos os valores de tokens\n",
    "word_list_clean = sum(data.tokens_lemma.tolist(), [])\n",
    "\n",
    "word_list_clean[:10]"
   ]
  },
  {
   "cell_type": "code",
   "execution_count": 24,
   "id": "515b217b",
   "metadata": {
    "ExecuteTime": {
     "end_time": "2022-01-17T02:50:58.020955Z",
     "start_time": "2022-01-17T02:50:57.697265Z"
    }
   },
   "outputs": [
    {
     "data": {
      "text/plain": [
       "[(11068, 'covid'),\n",
       " (9237, 'price'),\n",
       " (9221, 'store'),\n",
       " (8151, 'food'),\n",
       " (7708, 'supermarket'),\n",
       " (7310, 'grocery'),\n",
       " (6297, 'people'),\n",
       " (5993, 'go'),\n",
       " (5529, 'amp'),\n",
       " (5070, 'consumer')]"
      ]
     },
     "execution_count": 24,
     "metadata": {},
     "output_type": "execute_result"
    }
   ],
   "source": [
    "from collections import Counter\n",
    "\n",
    "# Converte a lista em um dicionário com contagem de valores\n",
    "word_counts_clean = Counter(word_list_clean)\n",
    "a = word_counts_clean\n",
    "\n",
    "# Inverta a chave / valores no dicionário para classificar\n",
    "word_counts_clean = list(zip(word_counts_clean.values(), word_counts_clean.keys()))\n",
    "\n",
    "# Classifique a lista por contagem\n",
    "word_counts_clean = sorted(word_counts_clean, reverse=True)\n",
    "\n",
    "# Imprime as 10 palavras mais comuns\n",
    "word_counts_clean[:10]"
   ]
  },
  {
   "cell_type": "markdown",
   "id": "3302ccba",
   "metadata": {},
   "source": [
    "## Núvem está com lemetização"
   ]
  },
  {
   "cell_type": "code",
   "execution_count": 25,
   "id": "b433ad86",
   "metadata": {
    "ExecuteTime": {
     "end_time": "2022-01-17T02:51:01.786598Z",
     "start_time": "2022-01-17T02:50:58.026842Z"
    }
   },
   "outputs": [
    {
     "data": {
      "image/png": "[encoded data removed]",
      "text/plain": [
       "<Figure size 864x720 with 1 Axes>"
      ]
     },
     "metadata": {
      "needs_background": "light"
     },
     "output_type": "display_data"
    }
   ],
   "source": [
    "# endereço LOCAL da SUA imagem\n",
    "from PIL import Image\n",
    "import numpy as np\n",
    "twitter_mask = np.array(Image.open(\"twitter.jpeg\"))\n",
    "\n",
    "from wordcloud import WordCloud\n",
    "import matplotlib.pyplot as plt\n",
    "text = word_list_clean\n",
    "wordcloud = WordCloud(\n",
    "    background_color=\"white\",\n",
    "    collocations=False,width=3000,\n",
    "    height=2000,\n",
    "    max_font_size=200,\n",
    "    mask=twitter_mask).fit_words(a)\n",
    "# wordcloud = WordCloud(width=1600, height=800, max_font_size=200).generate(text)\n",
    "plt.figure(figsize=(12,10))\n",
    "plt.imshow(wordcloud, interpolation='bilinear')\n",
    "plt.axis(\"off\")\n",
    "plt.show()"
   ]
  },
  {
   "cell_type": "markdown",
   "id": "36ec0ade",
   "metadata": {},
   "source": [
    "## Representação TF-IDF com stop words"
   ]
  },
  {
   "cell_type": "code",
   "execution_count": 26,
   "id": "cdc9e847",
   "metadata": {
    "ExecuteTime": {
     "end_time": "2022-01-17T02:51:06.127479Z",
     "start_time": "2022-01-17T02:51:01.791183Z"
    }
   },
   "outputs": [],
   "source": [
    "from sklearn.feature_extraction.text import TfidfVectorizer #TFidf\n",
    "\n",
    "cv_tfidf = TfidfVectorizer(stop_words = stopwords.words('english'))\n",
    "cv_tfidf.fit(data.ModifyTweet_2)\n",
    "\n",
    "text_vect = cv_tfidf.transform(data.ModifyTweet_2)"
   ]
  },
  {
   "cell_type": "markdown",
   "id": "1fddd897",
   "metadata": {},
   "source": [
    "## Data Mining"
   ]
  },
  {
   "cell_type": "code",
   "execution_count": 27,
   "id": "e2fc6115",
   "metadata": {
    "ExecuteTime": {
     "end_time": "2022-01-17T02:51:06.163593Z",
     "start_time": "2022-01-17T02:51:06.130453Z"
    }
   },
   "outputs": [],
   "source": [
    "from sklearn.model_selection import train_test_split\n",
    "\n",
    "X_train,X_test,y_train,y_test = train_test_split(text_vect, \n",
    "                                                 data.Sentiment,\n",
    "                                                 test_size = 0.3, # 30% para teste\n",
    "                                                 random_state = 42 #inserir aleatoriedade na base de teste e treino\n",
    "                                                )"
   ]
  },
  {
   "cell_type": "markdown",
   "id": "e912a560",
   "metadata": {},
   "source": [
    "## Seed para reprodução de resultados"
   ]
  },
  {
   "cell_type": "code",
   "execution_count": 28,
   "id": "b4d9104f",
   "metadata": {
    "ExecuteTime": {
     "end_time": "2022-01-17T02:51:06.183313Z",
     "start_time": "2022-01-17T02:51:06.176637Z"
    }
   },
   "outputs": [],
   "source": [
    "import numpy as np\n",
    "import random\n",
    "seed = 1\n",
    "random.seed(seed)\n",
    "np.random.seed(seed)"
   ]
  },
  {
   "cell_type": "markdown",
   "id": "1432d6e1",
   "metadata": {},
   "source": [
    "## Função de avaliação"
   ]
  },
  {
   "cell_type": "code",
   "execution_count": 29,
   "id": "5a9a5e46",
   "metadata": {
    "ExecuteTime": {
     "end_time": "2022-01-17T02:51:06.454397Z",
     "start_time": "2022-01-17T02:51:06.187710Z"
    }
   },
   "outputs": [],
   "source": [
    "import matplotlib.pyplot as plt\n",
    "import seaborn as sns\n",
    "from sklearn import metrics\n",
    "\n",
    "def evaluate(y_test, y_pred):\n",
    "\n",
    "    print('Model Performance metrics:')\n",
    "    print('-'*30)\n",
    "    print('Accuracy:', get_metrics(y_test, y_pred)[0])\n",
    "    print('Precision:', get_metrics(y_test, y_pred)[1])\n",
    "    print('Recall:', get_metrics(y_test, y_pred)[2])\n",
    "    print('F1 Score:', get_metrics(y_test, y_pred)[3])\n",
    "    \n",
    "    get_metrics(y_test, y_pred)\n",
    "\n",
    "    print('\\nPrediction Confusion Matrix:')\n",
    "    print('-'*30)\n",
    "    # Matriz de confusão\n",
    "    from sklearn.metrics import confusion_matrix\n",
    "    confMatrix = confusion_matrix(y_pred, y_test)\n",
    "\n",
    "    ax = plt.subplot()\n",
    "    sns.heatmap(confMatrix, annot=True, fmt=\".0f\")\n",
    "    plt.xlabel('Real')\n",
    "    plt.ylabel('Previsto')\n",
    "    plt.title('Matriz de Confusão')\n",
    "\n",
    "    # Colocar os nomes\n",
    "    Labels = ['Extremely Negative', 'Extremely Positive', 'Negative', 'Neutral', 'Positive']\n",
    "    ax.xaxis.set_ticklabels(Labels,rotation=-90) \n",
    "    ax.yaxis.set_ticklabels(Labels, rotation=0)\n",
    "    plt.xticks(rotation = 90)\n",
    "    plt.show()\n",
    "    \n",
    "    from sklearn.metrics import classification_report\n",
    "    print('\\nModel Classification report:')\n",
    "    print('-'*30)\n",
    "    print(classification_report(y_test,y_pred))\n",
    "    \n",
    "def get_metrics(true_labels, predicted_labels):\n",
    "    \n",
    "    accuracy = np.round(metrics.accuracy_score(true_labels, \n",
    "                                               predicted_labels),4)\n",
    "    \n",
    "    precision = np.round(metrics.precision_score(true_labels, \n",
    "                                               predicted_labels,\n",
    "                                               average='weighted'),4)\n",
    "    \n",
    "    recall = np.round(metrics.recall_score(true_labels, \n",
    "                                               predicted_labels,\n",
    "                                               average='weighted'),4)\n",
    "    \n",
    "    f1 = np.round(metrics.f1_score(true_labels, \n",
    "                                               predicted_labels,\n",
    "                                               average='weighted'),4)\n",
    "    \n",
    "    return [accuracy, precision, recall, f1]"
   ]
  },
  {
   "cell_type": "markdown",
   "id": "f28b4e8b",
   "metadata": {},
   "source": [
    "## Machine learning"
   ]
  },
  {
   "cell_type": "markdown",
   "id": "05270fd5",
   "metadata": {},
   "source": [
    "### Randon Forest"
   ]
  },
  {
   "cell_type": "code",
   "execution_count": 30,
   "id": "3cbd77e8",
   "metadata": {
    "ExecuteTime": {
     "end_time": "2022-01-17T02:55:56.804512Z",
     "start_time": "2022-01-17T02:51:06.458557Z"
    }
   },
   "outputs": [],
   "source": [
    "# treinar modelo na base de treino e fazer previsáo na base de teste.\n",
    "from sklearn.ensemble import RandomForestClassifier #RF é mais rápido, pode qq classificador (reg linear, reg log, svm, etc...) \n",
    "\n",
    "clf = RandomForestClassifier(random_state=seed)\n",
    "clf = clf.fit(X_train, y_train)\n",
    "y_prediction = clf.predict(X_test)"
   ]
  },
  {
   "cell_type": "code",
   "execution_count": 31,
   "id": "6a4117d9",
   "metadata": {
    "ExecuteTime": {
     "end_time": "2022-01-17T02:56:01.724519Z",
     "start_time": "2022-01-17T02:55:56.810238Z"
    }
   },
   "outputs": [
    {
     "name": "stdout",
     "output_type": "stream",
     "text": [
      "Model Performance metrics:\n",
      "------------------------------\n",
      "Accuracy: 0.5444\n",
      "Precision: 0.5663\n",
      "Recall: 0.5444\n",
      "F1 Score: 0.5377\n",
      "\n",
      "Prediction Confusion Matrix:\n",
      "------------------------------\n"
     ]
    },
    {
     "data": {
      "image/png": "[encoded data removed]",
      "text/plain": [
       "<Figure size 432x288 with 2 Axes>"
      ]
     },
     "metadata": {
      "needs_background": "light"
     },
     "output_type": "display_data"
    },
    {
     "name": "stdout",
     "output_type": "stream",
     "text": [
      "\n",
      "Model Classification report:\n",
      "------------------------------\n",
      "                    precision    recall  f1-score   support\n",
      "\n",
      "Extremely Negative       0.66      0.38      0.48      1808\n",
      "Extremely Positive       0.71      0.37      0.49      2185\n",
      "          Negative       0.50      0.51      0.51      3319\n",
      "           Neutral       0.58      0.75      0.66      2508\n",
      "          Positive       0.48      0.61      0.54      3667\n",
      "\n",
      "          accuracy                           0.54     13487\n",
      "         macro avg       0.59      0.53      0.54     13487\n",
      "      weighted avg       0.57      0.54      0.54     13487\n",
      "\n"
     ]
    }
   ],
   "source": [
    "rf_tfidf_sw = get_metrics(y_test, y_prediction)\n",
    "evaluate(y_test, y_prediction)"
   ]
  },
  {
   "cell_type": "markdown",
   "id": "249f6afc",
   "metadata": {},
   "source": [
    "### SVM"
   ]
  },
  {
   "cell_type": "code",
   "execution_count": 32,
   "id": "e145a9b9",
   "metadata": {
    "ExecuteTime": {
     "end_time": "2022-01-17T03:12:20.614834Z",
     "start_time": "2022-01-17T02:56:01.729191Z"
    }
   },
   "outputs": [],
   "source": [
    "# treinar modelo na base de treino e fazer previsáo na base de teste.\n",
    "from sklearn.svm import SVC\n",
    "\n",
    "clf = SVC(random_state=seed)\n",
    "clf = clf.fit(X_train, y_train)\n",
    "y_prediction = clf.predict(X_test)"
   ]
  },
  {
   "cell_type": "code",
   "execution_count": 33,
   "id": "8a6816e0",
   "metadata": {
    "ExecuteTime": {
     "end_time": "2022-01-17T03:12:24.009293Z",
     "start_time": "2022-01-17T03:12:20.617461Z"
    }
   },
   "outputs": [
    {
     "name": "stdout",
     "output_type": "stream",
     "text": [
      "Model Performance metrics:\n",
      "------------------------------\n",
      "Accuracy: 0.5935\n",
      "Precision: 0.6265\n",
      "Recall: 0.5935\n",
      "F1 Score: 0.5899\n",
      "\n",
      "Prediction Confusion Matrix:\n",
      "------------------------------\n"
     ]
    },
    {
     "data": {
      "image/png": "[encoded data removed]",
      "text/plain": [
       "<Figure size 432x288 with 2 Axes>"
      ]
     },
     "metadata": {
      "needs_background": "light"
     },
     "output_type": "display_data"
    },
    {
     "name": "stdout",
     "output_type": "stream",
     "text": [
      "\n",
      "Model Classification report:\n",
      "------------------------------\n",
      "                    precision    recall  f1-score   support\n",
      "\n",
      "Extremely Negative       0.74      0.39      0.51      1808\n",
      "Extremely Positive       0.80      0.44      0.57      2185\n",
      "          Negative       0.52      0.60      0.56      3319\n",
      "           Neutral       0.67      0.68      0.67      2508\n",
      "          Positive       0.53      0.72      0.61      3667\n",
      "\n",
      "          accuracy                           0.59     13487\n",
      "         macro avg       0.65      0.57      0.59     13487\n",
      "      weighted avg       0.63      0.59      0.59     13487\n",
      "\n"
     ]
    }
   ],
   "source": [
    "svm_tfidf_sw = get_metrics(y_test, y_prediction)\n",
    "evaluate(y_test, y_prediction)"
   ]
  },
  {
   "cell_type": "markdown",
   "id": "812ffa2c",
   "metadata": {},
   "source": [
    "## Representação TF-IDF com stop words e stemming"
   ]
  },
  {
   "cell_type": "code",
   "execution_count": 34,
   "id": "b89cb337",
   "metadata": {
    "ExecuteTime": {
     "end_time": "2022-01-17T03:12:24.108631Z",
     "start_time": "2022-01-17T03:12:24.013061Z"
    }
   },
   "outputs": [],
   "source": [
    "# criação do corpus com stemming\n",
    "corpus = []\n",
    "for doc in data.tokens_stem:\n",
    "     corpus.append(' '.join(doc))    "
   ]
  },
  {
   "cell_type": "code",
   "execution_count": 35,
   "id": "80962efb",
   "metadata": {
    "ExecuteTime": {
     "end_time": "2022-01-17T03:12:27.321337Z",
     "start_time": "2022-01-17T03:12:24.111263Z"
    }
   },
   "outputs": [],
   "source": [
    "from sklearn.feature_extraction.text import TfidfVectorizer #TFidf\n",
    "\n",
    "cv_tfidf = TfidfVectorizer(stop_words = stopwords.words('english'))\n",
    "cv_tfidf.fit(corpus)\n",
    "\n",
    "text_vect = cv_tfidf.transform(corpus)"
   ]
  },
  {
   "cell_type": "markdown",
   "id": "80121063",
   "metadata": {},
   "source": [
    "## Data Mining"
   ]
  },
  {
   "cell_type": "code",
   "execution_count": 36,
   "id": "00b1021f",
   "metadata": {
    "ExecuteTime": {
     "end_time": "2022-01-17T03:12:27.355554Z",
     "start_time": "2022-01-17T03:12:27.323782Z"
    }
   },
   "outputs": [],
   "source": [
    "from sklearn.model_selection import train_test_split\n",
    "\n",
    "X_train,X_test,y_train,y_test = train_test_split(text_vect, \n",
    "                                                 data.Sentiment,\n",
    "                                                 test_size = 0.3, # 30% para teste\n",
    "                                                 random_state = 42 #inserir aleatoriedade na base de teste e treino\n",
    "                                                )"
   ]
  },
  {
   "cell_type": "markdown",
   "id": "712bb54e",
   "metadata": {},
   "source": [
    "## Machine learning"
   ]
  },
  {
   "cell_type": "markdown",
   "id": "8668a226",
   "metadata": {},
   "source": [
    "### Randon Forest"
   ]
  },
  {
   "cell_type": "code",
   "execution_count": 37,
   "id": "f628d21d",
   "metadata": {
    "ExecuteTime": {
     "end_time": "2022-01-17T03:15:29.144448Z",
     "start_time": "2022-01-17T03:12:27.359667Z"
    }
   },
   "outputs": [],
   "source": [
    "from sklearn.ensemble import RandomForestClassifier #RF é mais rápido, pode qq classificador (reg linear, reg log, svm, etc...) \n",
    "\n",
    "clf = RandomForestClassifier(random_state=seed)\n",
    "clf = clf.fit(X_train, y_train)\n",
    "y_prediction = clf.predict(X_test)"
   ]
  },
  {
   "cell_type": "code",
   "execution_count": 38,
   "id": "287a1406",
   "metadata": {
    "ExecuteTime": {
     "end_time": "2022-01-17T03:15:32.211546Z",
     "start_time": "2022-01-17T03:15:29.146830Z"
    }
   },
   "outputs": [
    {
     "name": "stdout",
     "output_type": "stream",
     "text": [
      "Model Performance metrics:\n",
      "------------------------------\n",
      "Accuracy: 0.5453\n",
      "Precision: 0.5677\n",
      "Recall: 0.5453\n",
      "F1 Score: 0.5391\n",
      "\n",
      "Prediction Confusion Matrix:\n",
      "------------------------------\n"
     ]
    },
    {
     "data": {
      "image/png": "[encoded data removed]",
      "text/plain": [
       "<Figure size 432x288 with 2 Axes>"
      ]
     },
     "metadata": {
      "needs_background": "light"
     },
     "output_type": "display_data"
    },
    {
     "name": "stdout",
     "output_type": "stream",
     "text": [
      "\n",
      "Model Classification report:\n",
      "------------------------------\n",
      "                    precision    recall  f1-score   support\n",
      "\n",
      "Extremely Negative       0.67      0.38      0.48      1808\n",
      "Extremely Positive       0.69      0.37      0.48      2185\n",
      "          Negative       0.50      0.51      0.51      3319\n",
      "           Neutral       0.61      0.73      0.66      2508\n",
      "          Positive       0.48      0.64      0.55      3667\n",
      "\n",
      "          accuracy                           0.55     13487\n",
      "         macro avg       0.59      0.52      0.54     13487\n",
      "      weighted avg       0.57      0.55      0.54     13487\n",
      "\n"
     ]
    }
   ],
   "source": [
    "rf_tfidf_stem = get_metrics(y_test, y_prediction)\n",
    "evaluate(y_test, y_prediction)"
   ]
  },
  {
   "cell_type": "markdown",
   "id": "78253558",
   "metadata": {},
   "source": [
    "### SVM"
   ]
  },
  {
   "cell_type": "code",
   "execution_count": 39,
   "id": "acabc66f",
   "metadata": {
    "ExecuteTime": {
     "end_time": "2022-01-17T03:30:33.018613Z",
     "start_time": "2022-01-17T03:15:32.214766Z"
    }
   },
   "outputs": [],
   "source": [
    "# treinar modelo na base de treino e fazer previsáo na base de teste.\n",
    "from sklearn.svm import SVC\n",
    "\n",
    "clf = SVC(random_state=seed)\n",
    "clf = clf.fit(X_train, y_train)\n",
    "y_prediction = clf.predict(X_test)"
   ]
  },
  {
   "cell_type": "code",
   "execution_count": 40,
   "id": "9fc2ce1b",
   "metadata": {
    "ExecuteTime": {
     "end_time": "2022-01-17T03:30:36.013109Z",
     "start_time": "2022-01-17T03:30:33.021901Z"
    }
   },
   "outputs": [
    {
     "name": "stdout",
     "output_type": "stream",
     "text": [
      "Model Performance metrics:\n",
      "------------------------------\n",
      "Accuracy: 0.6035\n",
      "Precision: 0.6323\n",
      "Recall: 0.6035\n",
      "F1 Score: 0.6017\n",
      "\n",
      "Prediction Confusion Matrix:\n",
      "------------------------------\n"
     ]
    },
    {
     "data": {
      "image/png": "[encoded data removed]",
      "text/plain": [
       "<Figure size 432x288 with 2 Axes>"
      ]
     },
     "metadata": {
      "needs_background": "light"
     },
     "output_type": "display_data"
    },
    {
     "name": "stdout",
     "output_type": "stream",
     "text": [
      "\n",
      "Model Classification report:\n",
      "------------------------------\n",
      "                    precision    recall  f1-score   support\n",
      "\n",
      "Extremely Negative       0.74      0.43      0.55      1808\n",
      "Extremely Positive       0.80      0.47      0.59      2185\n",
      "          Negative       0.53      0.60      0.56      3319\n",
      "           Neutral       0.68      0.69      0.68      2508\n",
      "          Positive       0.54      0.71      0.61      3667\n",
      "\n",
      "          accuracy                           0.60     13487\n",
      "         macro avg       0.66      0.58      0.60     13487\n",
      "      weighted avg       0.63      0.60      0.60     13487\n",
      "\n"
     ]
    }
   ],
   "source": [
    "svm_tfidf_stem = get_metrics(y_test, y_prediction)\n",
    "evaluate(y_test, y_prediction)"
   ]
  },
  {
   "cell_type": "markdown",
   "id": "31a60705",
   "metadata": {},
   "source": [
    "## Representação TF-IDF com stop words e lemetização"
   ]
  },
  {
   "cell_type": "code",
   "execution_count": 42,
   "id": "97700c05",
   "metadata": {
    "ExecuteTime": {
     "end_time": "2022-01-17T13:31:28.425078Z",
     "start_time": "2022-01-17T13:31:28.157448Z"
    }
   },
   "outputs": [],
   "source": [
    "# criação do corpus com lemetização \n",
    "corpus = []\n",
    "for doc in data.tokens_lemma:\n",
    "     corpus.append(' '.join(doc))  "
   ]
  },
  {
   "cell_type": "code",
   "execution_count": 43,
   "id": "3f34bd5f",
   "metadata": {
    "ExecuteTime": {
     "end_time": "2022-01-17T13:31:31.870202Z",
     "start_time": "2022-01-17T13:31:29.058547Z"
    }
   },
   "outputs": [],
   "source": [
    "from sklearn.feature_extraction.text import TfidfVectorizer #TFidf\n",
    "\n",
    "cv_tfidf = TfidfVectorizer(stop_words = stopwords.words('english'))\n",
    "cv_tfidf.fit(corpus)\n",
    "\n",
    "text_vect = cv_tfidf.transform(corpus)"
   ]
  },
  {
   "cell_type": "markdown",
   "id": "d4bc00fa",
   "metadata": {},
   "source": [
    "## Data Mining"
   ]
  },
  {
   "cell_type": "code",
   "execution_count": 44,
   "id": "33e48511",
   "metadata": {
    "ExecuteTime": {
     "end_time": "2022-01-17T13:31:31.905269Z",
     "start_time": "2022-01-17T13:31:31.873028Z"
    }
   },
   "outputs": [],
   "source": [
    "from sklearn.model_selection import train_test_split\n",
    "\n",
    "X_train,X_test,y_train,y_test = train_test_split(text_vect, \n",
    "                                                 data.Sentiment,\n",
    "                                                 test_size = 0.3, # 30% para teste\n",
    "                                                 random_state = 42 #inserir aleatoriedade na base de teste e treino\n",
    "                                                )"
   ]
  },
  {
   "cell_type": "markdown",
   "id": "06dd38b7",
   "metadata": {},
   "source": [
    "## Machine learning"
   ]
  },
  {
   "cell_type": "markdown",
   "id": "1be62e2f",
   "metadata": {},
   "source": [
    "### Randon Forest"
   ]
  },
  {
   "cell_type": "code",
   "execution_count": 45,
   "id": "118519dd",
   "metadata": {
    "ExecuteTime": {
     "end_time": "2022-01-17T13:34:46.463342Z",
     "start_time": "2022-01-17T13:31:33.565168Z"
    }
   },
   "outputs": [],
   "source": [
    "from sklearn.ensemble import RandomForestClassifier #RF é mais rápido, pode qq classificador (reg linear, reg log, svm, etc...) \n",
    "\n",
    "clf = RandomForestClassifier(random_state=seed)\n",
    "clf = clf.fit(X_train, y_train)\n",
    "y_prediction = clf.predict(X_test)"
   ]
  },
  {
   "cell_type": "code",
   "execution_count": 46,
   "id": "ae61f9db",
   "metadata": {
    "ExecuteTime": {
     "end_time": "2022-01-17T13:34:49.569575Z",
     "start_time": "2022-01-17T13:34:46.466241Z"
    }
   },
   "outputs": [
    {
     "name": "stdout",
     "output_type": "stream",
     "text": [
      "Model Performance metrics:\n",
      "------------------------------\n",
      "Accuracy: 0.5411\n",
      "Precision: 0.5639\n",
      "Recall: 0.5411\n",
      "F1 Score: 0.5348\n",
      "\n",
      "Prediction Confusion Matrix:\n",
      "------------------------------\n"
     ]
    },
    {
     "data": {
      "image/png": "[encoded data removed]",
      "text/plain": [
       "<Figure size 432x288 with 2 Axes>"
      ]
     },
     "metadata": {
      "needs_background": "light"
     },
     "output_type": "display_data"
    },
    {
     "name": "stdout",
     "output_type": "stream",
     "text": [
      "\n",
      "Model Classification report:\n",
      "------------------------------\n",
      "                    precision    recall  f1-score   support\n",
      "\n",
      "Extremely Negative       0.67      0.38      0.48      1808\n",
      "Extremely Positive       0.70      0.36      0.48      2185\n",
      "          Negative       0.49      0.52      0.51      3319\n",
      "           Neutral       0.60      0.73      0.66      2508\n",
      "          Positive       0.48      0.62      0.54      3667\n",
      "\n",
      "          accuracy                           0.54     13487\n",
      "         macro avg       0.59      0.52      0.53     13487\n",
      "      weighted avg       0.56      0.54      0.53     13487\n",
      "\n"
     ]
    }
   ],
   "source": [
    "rf_tfidf_leme = get_metrics(y_test, y_prediction)\n",
    "evaluate(y_test, y_prediction)"
   ]
  },
  {
   "cell_type": "markdown",
   "id": "07cf4a93",
   "metadata": {},
   "source": [
    "### SVM"
   ]
  },
  {
   "cell_type": "code",
   "execution_count": 47,
   "id": "d8ef5cb5",
   "metadata": {
    "ExecuteTime": {
     "end_time": "2022-01-17T13:49:51.554098Z",
     "start_time": "2022-01-17T13:34:49.573336Z"
    }
   },
   "outputs": [],
   "source": [
    "# treinar modelo na base de treino e fazer previsáo na base de teste.\n",
    "from sklearn.svm import SVC\n",
    "\n",
    "clf = SVC(random_state=seed)\n",
    "clf = clf.fit(X_train, y_train)\n",
    "y_prediction = clf.predict(X_test)"
   ]
  },
  {
   "cell_type": "code",
   "execution_count": 48,
   "id": "caadda33",
   "metadata": {
    "ExecuteTime": {
     "end_time": "2022-01-17T13:49:51.907235Z",
     "start_time": "2022-01-17T13:49:51.557252Z"
    }
   },
   "outputs": [
    {
     "data": {
      "text/plain": [
       "[0.5932, 0.6218, 0.5932, 0.5913]"
      ]
     },
     "execution_count": 48,
     "metadata": {},
     "output_type": "execute_result"
    }
   ],
   "source": [
    "get_metrics(y_test, y_prediction)"
   ]
  },
  {
   "cell_type": "code",
   "execution_count": 49,
   "id": "4256c4e3",
   "metadata": {
    "ExecuteTime": {
     "end_time": "2022-01-17T13:49:54.902737Z",
     "start_time": "2022-01-17T13:49:51.910698Z"
    }
   },
   "outputs": [
    {
     "name": "stdout",
     "output_type": "stream",
     "text": [
      "Model Performance metrics:\n",
      "------------------------------\n",
      "Accuracy: 0.5932\n",
      "Precision: 0.6218\n",
      "Recall: 0.5932\n",
      "F1 Score: 0.5913\n",
      "\n",
      "Prediction Confusion Matrix:\n",
      "------------------------------\n"
     ]
    },
    {
     "data": {
      "image/png": "[encoded data removed]",
      "text/plain": [
       "<Figure size 432x288 with 2 Axes>"
      ]
     },
     "metadata": {
      "needs_background": "light"
     },
     "output_type": "display_data"
    },
    {
     "name": "stdout",
     "output_type": "stream",
     "text": [
      "\n",
      "Model Classification report:\n",
      "------------------------------\n",
      "                    precision    recall  f1-score   support\n",
      "\n",
      "Extremely Negative       0.72      0.42      0.53      1808\n",
      "Extremely Positive       0.80      0.46      0.58      2185\n",
      "          Negative       0.52      0.59      0.55      3319\n",
      "           Neutral       0.67      0.67      0.67      2508\n",
      "          Positive       0.53      0.70      0.60      3667\n",
      "\n",
      "          accuracy                           0.59     13487\n",
      "         macro avg       0.65      0.57      0.59     13487\n",
      "      weighted avg       0.62      0.59      0.59     13487\n",
      "\n"
     ]
    }
   ],
   "source": [
    "svm_tfidf_leme = get_metrics(y_test, y_prediction)\n",
    "evaluate(y_test, y_prediction)"
   ]
  },
  {
   "cell_type": "code",
   "execution_count": 50,
   "id": "a7819e1c",
   "metadata": {
    "ExecuteTime": {
     "end_time": "2022-01-17T14:05:47.876548Z",
     "start_time": "2022-01-17T14:05:47.850739Z"
    }
   },
   "outputs": [
    {
     "data": {
      "text/html": [
       "<div>\n",
       "<style scoped>\n",
       "    .dataframe tbody tr th:only-of-type {\n",
       "        vertical-align: middle;\n",
       "    }\n",
       "\n",
       "    .dataframe tbody tr th {\n",
       "        vertical-align: top;\n",
       "    }\n",
       "\n",
       "    .dataframe thead th {\n",
       "        text-align: right;\n",
       "    }\n",
       "</style>\n",
       "<table border=\"1\" class=\"dataframe\">\n",
       "  <thead>\n",
       "    <tr style=\"text-align: right;\">\n",
       "      <th></th>\n",
       "      <th>RF_SW</th>\n",
       "      <th>SVM_SW</th>\n",
       "      <th>RF_STEM</th>\n",
       "      <th>SVM_STEM</th>\n",
       "      <th>RF_LEME</th>\n",
       "      <th>SVM_LEME</th>\n",
       "    </tr>\n",
       "  </thead>\n",
       "  <tbody>\n",
       "    <tr>\n",
       "      <th>Accuracy</th>\n",
       "      <td>0.5444</td>\n",
       "      <td>0.5935</td>\n",
       "      <td>0.5453</td>\n",
       "      <td>0.6035</td>\n",
       "      <td>0.5411</td>\n",
       "      <td>0.5932</td>\n",
       "    </tr>\n",
       "    <tr>\n",
       "      <th>Precision</th>\n",
       "      <td>0.5663</td>\n",
       "      <td>0.6265</td>\n",
       "      <td>0.5677</td>\n",
       "      <td>0.6323</td>\n",
       "      <td>0.5639</td>\n",
       "      <td>0.6218</td>\n",
       "    </tr>\n",
       "    <tr>\n",
       "      <th>Recall</th>\n",
       "      <td>0.5444</td>\n",
       "      <td>0.5935</td>\n",
       "      <td>0.5453</td>\n",
       "      <td>0.6035</td>\n",
       "      <td>0.5411</td>\n",
       "      <td>0.5932</td>\n",
       "    </tr>\n",
       "    <tr>\n",
       "      <th>F1 Score</th>\n",
       "      <td>0.5377</td>\n",
       "      <td>0.5899</td>\n",
       "      <td>0.5391</td>\n",
       "      <td>0.6017</td>\n",
       "      <td>0.5348</td>\n",
       "      <td>0.5913</td>\n",
       "    </tr>\n",
       "  </tbody>\n",
       "</table>\n",
       "</div>"
      ],
      "text/plain": [
       "            RF_SW  SVM_SW  RF_STEM  SVM_STEM  RF_LEME  SVM_LEME\n",
       "Accuracy   0.5444  0.5935   0.5453    0.6035   0.5411    0.5932\n",
       "Precision  0.5663  0.6265   0.5677    0.6323   0.5639    0.6218\n",
       "Recall     0.5444  0.5935   0.5453    0.6035   0.5411    0.5932\n",
       "F1 Score   0.5377  0.5899   0.5391    0.6017   0.5348    0.5913"
      ]
     },
     "execution_count": 50,
     "metadata": {},
     "output_type": "execute_result"
    }
   ],
   "source": [
    "# Compile todas as métricas de erro em um quadro de dados para comparação\n",
    "results = pd.DataFrame(list(zip(rf_tfidf_sw, svm_tfidf_sw, rf_tfidf_stem, svm_tfidf_stem, rf_tfidf_leme, svm_tfidf_leme)))\n",
    "results = results.set_index([['Accuracy', 'Precision', 'Recall', 'F1 Score']])\n",
    "results.columns = ['RF_SW', 'SVM_SW','RF_STEM', 'SVM_STEM', 'RF_LEME', 'SVM_LEME']\n",
    "results"
   ]
  },
  {
   "cell_type": "markdown",
   "id": "9033d28e",
   "metadata": {},
   "source": [
    "## Representação bag of words com stop words"
   ]
  },
  {
   "cell_type": "code",
   "execution_count": 57,
   "id": "6100e8f2",
   "metadata": {
    "ExecuteTime": {
     "end_time": "2022-01-17T15:05:45.356702Z",
     "start_time": "2022-01-17T15:05:41.783289Z"
    }
   },
   "outputs": [],
   "source": [
    "from sklearn.feature_extraction.text import CountVectorizer #bag of words\n",
    "          \n",
    "cv = CountVectorizer(stop_words=stopwords.words('english'))\n",
    "cv.fit(data.ModifyTweet_2)\n",
    "\n",
    "text_vect = cv.transform(data.ModifyTweet_2)"
   ]
  },
  {
   "cell_type": "markdown",
   "id": "e6bb8ec6",
   "metadata": {},
   "source": [
    "## Data Mining"
   ]
  },
  {
   "cell_type": "code",
   "execution_count": 58,
   "id": "a87b74f0",
   "metadata": {
    "ExecuteTime": {
     "end_time": "2022-01-17T15:22:14.020948Z",
     "start_time": "2022-01-17T15:22:13.994943Z"
    }
   },
   "outputs": [],
   "source": [
    "from sklearn.model_selection import train_test_split\n",
    "\n",
    "X_train,X_test,y_train,y_test = train_test_split(text_vect, \n",
    "                                                 data.Sentiment,\n",
    "                                                 test_size = 0.3, # 30% para teste\n",
    "                                                 random_state = 42 #inserir aleatoriedade na base de teste e treino\n",
    "                                                )"
   ]
  },
  {
   "cell_type": "markdown",
   "id": "d0c8a2b0",
   "metadata": {},
   "source": [
    "## Machine learning"
   ]
  },
  {
   "cell_type": "markdown",
   "id": "e9792199",
   "metadata": {},
   "source": [
    "### Randon Forest"
   ]
  },
  {
   "cell_type": "code",
   "execution_count": 59,
   "id": "9d49d43c",
   "metadata": {
    "ExecuteTime": {
     "end_time": "2022-01-17T15:28:04.850220Z",
     "start_time": "2022-01-17T15:23:47.284843Z"
    }
   },
   "outputs": [],
   "source": [
    "# treinar modelo na base de treino e fazer previsáo na base de teste.\n",
    "from sklearn.ensemble import RandomForestClassifier #RF é mais rápido, pode qq classificador (reg linear, reg log, svm, etc...) \n",
    "\n",
    "clf = RandomForestClassifier(random_state=seed)\n",
    "clf = clf.fit(X_train, y_train)\n",
    "y_prediction = clf.predict(X_test)"
   ]
  },
  {
   "cell_type": "code",
   "execution_count": 60,
   "id": "1be274f1",
   "metadata": {
    "ExecuteTime": {
     "end_time": "2022-01-17T15:28:08.055722Z",
     "start_time": "2022-01-17T15:28:04.860381Z"
    }
   },
   "outputs": [
    {
     "name": "stdout",
     "output_type": "stream",
     "text": [
      "Model Performance metrics:\n",
      "------------------------------\n",
      "Accuracy: 0.5553\n",
      "Precision: 0.5818\n",
      "Recall: 0.5553\n",
      "F1 Score: 0.5409\n",
      "\n",
      "Prediction Confusion Matrix:\n",
      "------------------------------\n"
     ]
    },
    {
     "data": {
      "image/png": "[encoded data removed]",
      "text/plain": [
       "<Figure size 432x288 with 2 Axes>"
      ]
     },
     "metadata": {
      "needs_background": "light"
     },
     "output_type": "display_data"
    },
    {
     "name": "stdout",
     "output_type": "stream",
     "text": [
      "\n",
      "Model Classification report:\n",
      "------------------------------\n",
      "                    precision    recall  f1-score   support\n",
      "\n",
      "Extremely Negative       0.68      0.34      0.45      1808\n",
      "Extremely Positive       0.73      0.31      0.44      2185\n",
      "          Negative       0.51      0.52      0.51      3319\n",
      "           Neutral       0.59      0.84      0.69      2508\n",
      "          Positive       0.50      0.65      0.56      3667\n",
      "\n",
      "          accuracy                           0.56     13487\n",
      "         macro avg       0.60      0.53      0.53     13487\n",
      "      weighted avg       0.58      0.56      0.54     13487\n",
      "\n"
     ]
    }
   ],
   "source": [
    "rf_cv_sw = get_metrics(y_test, y_prediction)\n",
    "evaluate(y_test, y_prediction)"
   ]
  },
  {
   "cell_type": "markdown",
   "id": "693c8ba2",
   "metadata": {},
   "source": [
    "## Teste"
   ]
  },
  {
   "cell_type": "code",
   "execution_count": 51,
   "id": "b85cfada",
   "metadata": {
    "ExecuteTime": {
     "end_time": "2022-01-17T14:07:09.596148Z",
     "start_time": "2022-01-17T14:07:09.591888Z"
    }
   },
   "outputs": [],
   "source": [
    "frase = ['covid is bad a desease']"
   ]
  },
  {
   "cell_type": "code",
   "execution_count": 52,
   "id": "7b81305e",
   "metadata": {
    "ExecuteTime": {
     "end_time": "2022-01-17T14:07:10.308779Z",
     "start_time": "2022-01-17T14:07:10.285088Z"
    }
   },
   "outputs": [
    {
     "data": {
      "text/plain": [
       "array(['Extremely Negative'], dtype=object)"
      ]
     },
     "execution_count": 52,
     "metadata": {},
     "output_type": "execute_result"
    }
   ],
   "source": [
    "clf.predict(cv_tfidf.transform(frase))"
   ]
  },
  {
   "cell_type": "code",
   "execution_count": 53,
   "id": "90750a40",
   "metadata": {
    "ExecuteTime": {
     "end_time": "2022-01-17T14:07:10.908849Z",
     "start_time": "2022-01-17T14:07:10.904849Z"
    }
   },
   "outputs": [],
   "source": [
    "frase = ['covid is a desease']"
   ]
  },
  {
   "cell_type": "code",
   "execution_count": 54,
   "id": "71f5c59b",
   "metadata": {
    "ExecuteTime": {
     "end_time": "2022-01-17T14:07:11.491959Z",
     "start_time": "2022-01-17T14:07:11.469227Z"
    }
   },
   "outputs": [
    {
     "data": {
      "text/plain": [
       "array(['Neutral'], dtype=object)"
      ]
     },
     "execution_count": 54,
     "metadata": {},
     "output_type": "execute_result"
    }
   ],
   "source": [
    "clf.predict(cv_tfidf.transform(frase))"
   ]
  },
  {
   "cell_type": "code",
   "execution_count": 55,
   "id": "7dbdb209",
   "metadata": {
    "ExecuteTime": {
     "end_time": "2022-01-17T14:07:12.083390Z",
     "start_time": "2022-01-17T14:07:12.078757Z"
    }
   },
   "outputs": [],
   "source": [
    "frase = ['covid is a good desease']"
   ]
  },
  {
   "cell_type": "code",
   "execution_count": 56,
   "id": "1252e008",
   "metadata": {
    "ExecuteTime": {
     "end_time": "2022-01-17T14:07:12.725804Z",
     "start_time": "2022-01-17T14:07:12.703417Z"
    }
   },
   "outputs": [
    {
     "data": {
      "text/plain": [
       "array(['Extremely Positive'], dtype=object)"
      ]
     },
     "execution_count": 56,
     "metadata": {},
     "output_type": "execute_result"
    }
   ],
   "source": [
    "clf.predict(cv_tfidf.transform(frase))"
   ]
  },
  {
   "cell_type": "code",
   "execution_count": null,
   "id": "5a6828c9",
   "metadata": {},
   "outputs": [],
   "source": []
  }
 ],
 "metadata": {
  "kernelspec": {
   "display_name": "Python 3 (ipykernel)",
   "language": "python",
   "name": "python3"
  },
  "language_info": {
   "codemirror_mode": {
    "name": "ipython",
    "version": 3
   },
   "file_extension": ".py",
   "mimetype": "text/x-python",
   "name": "python",
   "nbconvert_exporter": "python",
   "pygments_lexer": "ipython3",
   "version": "3.8.11"
  }
 },
 "nbformat": 4,
 "nbformat_minor": 5
}
